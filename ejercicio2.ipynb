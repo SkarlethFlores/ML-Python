{
 "cells": [
  {
   "cell_type": "markdown",
   "metadata": {
    "deletable": false,
    "editable": false,
    "nbgrader": {
     "cell_type": "markdown",
     "checksum": "c826aa9ced2cea69fb27971a293688cd",
     "grade": false,
     "grade_id": "cell-c539c087e489ae62",
     "locked": true,
     "schema_version": 3,
     "solution": false,
     "task": false
    }
   },
   "source": [
    "# Lista 2 de Ejercicios\n",
    "\n",
    "### Objetivo:\n",
    "Este ejercicio pretende aumentar la destreza del estudiante para dibujar gráficos descriptivos comunes, testear múltiples modelos de clasificación de forma rápida y poner en práctica transformadores habituales de la librería __sklearn__.\n",
    "\n",
    "### Tarea del estudiante:\n",
    "\n",
    "#### Lee detenidamente las siguientes instrucciones y borra `raise NotImplementedError` en todas las celdas\n",
    "En cada trozo de código debes responder a la pregunta formulada, asegurándote de que el resultado queda guardado en la(s) variable(s) indicadas, que por defecto vienen inicializadas a `None`. Puedes usar variables intermedias siempre que el resultado final del cálculo quede guardado exactamente en la variable que indica el enunciado (debes reemplazar `None` el código necesario, pero nunca cambiar el nombre de las variables ya creadas). \n",
    "\n",
    "Después de cada ejercicio verás varias líneas de código ya hechas. Ejecútalas todas (no modifiques su código) y te dirán si tu solución es correcta o no, sin darte pistas de cómo se resuelve (el código de los tests no guarda relación con el código de la solución). Si la solución es correcta, no se mostrará nada, pero si es incorrecta, verás un error indicando cuál es el test que tu solución no pasa. Además de esas pruebas, se realizarán algunas más (ocultas) a la hora de puntuar el ejercicio, pero si tu código pasa con éxito las líneas que ves, puedes estar bastante seguro de que tu solución es correcta. Asegúrate de que todas las celdas de auto-evaluación indican que tu solución es correcta antes de subir el ejercicio a la plataforma. En caso contrario, no dudes en preguntar las dudas a través del foro -siempre explicando la duda en palabras, sin pegar código fuente-.\n",
    "\n",
    "Una vez finalizada la actividad, guarda tu fichero, ciérralo con File -> Close and Halt, y después vuélvelo a abrir y ejecútalo completo pinchando en Cell -> Run All Cells, y asegúrate de que no se lanza ningún error. De esta manera comprobarás que no has olvidado nada y que es posible ejecutarlo completo desde 0 y sin errores. No se corregirá ningún fichero que tenga errores de sintaxis y no se pueda, como mínimo, ejecutar completamente. No pasa nada si alguna de las comprobaciones lanza errores por ser incorrecta, pero el código de cada ejercicio no puede tener errores de sintaxis y debe al menos poderse ejecutar.\n",
    "\n",
    "RECUERDA SUBIR CADA UNO DE LOS FICHEROS .ipynb TAL CUAL (sueltos), SIN COMPRIMIR Y SIN CAMBIARLES EL NOMBRE. Los ficheros subidos deben tener **exactamente el mismo nombre de fichero que tenían cuando los recibiste**. No subas ningún PDF ni ningún fichero ZIP ni nada similar. La plataforma ya los separa automáticamente en carpetas que traen el nombre y apellidos del alumno, por lo que NO es necesario que lo pongas en ninguna parte."
   ]
  },
  {
   "cell_type": "markdown",
   "metadata": {
    "deletable": false,
    "editable": false,
    "nbgrader": {
     "cell_type": "markdown",
     "checksum": "0de428d8659f31a1e1389def62b19639",
     "grade": false,
     "grade_id": "cell-0a7317721d224b0d",
     "locked": true,
     "schema_version": 3,
     "solution": false,
     "task": false
    }
   },
   "source": [
    "## Parte 0: Inicialización\n",
    "\n",
    "En esta parte, simplemente cargamos las librerías que vamos a utilizar y establecemos una semilla para controlar la reproducibilidad del ejercicio."
   ]
  },
  {
   "cell_type": "code",
   "execution_count": 1,
   "metadata": {
    "deletable": false,
    "editable": false,
    "nbgrader": {
     "cell_type": "code",
     "checksum": "d45edc304ab36cf6125a9760c8512434",
     "grade": false,
     "grade_id": "cell-f797ca551dde1426",
     "locked": true,
     "schema_version": 3,
     "solution": false,
     "task": false
    }
   },
   "outputs": [],
   "source": [
    "\"\"\" Librerías \"\"\"\n",
    "\n",
    "import pandas as pd\n",
    "import numpy as np\n",
    "import matplotlib.pyplot as plt\n",
    "import seaborn as sns\n",
    "import warnings\n",
    "\n",
    "sns.set_style('darkgrid')\n",
    "np.set_printoptions(precision=2)\n",
    "warnings.filterwarnings(\"ignore\")\n",
    "\n",
    "import sklearn\n",
    "from sklearn.preprocessing import MinMaxScaler, StandardScaler, Normalizer, Binarizer, RobustScaler\n",
    "from sklearn.compose import ColumnTransformer\n",
    "from sklearn.preprocessing import OneHotEncoder, LabelEncoder, PowerTransformer\n",
    "from sklearn.impute import SimpleImputer, KNNImputer\n",
    "\n",
    "from sklearn.feature_selection import SelectKBest, chi2, RFE\n",
    "from sklearn.model_selection import train_test_split\n",
    "from sklearn.pipeline import make_pipeline, Pipeline\n",
    "from sklearn.decomposition import PCA\n",
    "\n",
    "from sklearn.linear_model import LogisticRegression\n",
    "from sklearn.tree import DecisionTreeClassifier\n",
    "from sklearn.neighbors import KNeighborsClassifier\n",
    "from sklearn.discriminant_analysis import LinearDiscriminantAnalysis\n",
    "from sklearn.naive_bayes import GaussianNB\n",
    "from sklearn.ensemble import RandomForestClassifier, ExtraTreesClassifier\n",
    "from sklearn.linear_model import Perceptron\n",
    "from sklearn.svm import SVC\n",
    "\n",
    "from sklearn.metrics import accuracy_score, confusion_matrix, classification_report, f1_score\n",
    "\n",
    "from sklearn.model_selection import KFold, ShuffleSplit, LeaveOneOut, StratifiedKFold\n",
    "from sklearn.model_selection import cross_val_score, cross_val_predict\n",
    "from sklearn.model_selection import GridSearchCV, RandomizedSearchCV\n",
    "\n",
    "\"\"\" Semilla \"\"\"\n",
    "\n",
    "seed = 77"
   ]
  },
  {
   "cell_type": "markdown",
   "metadata": {
    "deletable": false,
    "editable": false,
    "nbgrader": {
     "cell_type": "markdown",
     "checksum": "ab921987842ffd80beb1ef6ae66fac18",
     "grade": false,
     "grade_id": "cell-183cf8a1a662f2c8",
     "locked": true,
     "schema_version": 3,
     "solution": false,
     "task": false
    }
   },
   "source": [
    "## Parte 1: Lectura y transformación de datos\n",
    "\n",
    "En esta parte, principalmente, cargaremos los datos de un repositorio git y realizaremos una breve limpieza de los datos para conseguir un dataframe listo."
   ]
  },
  {
   "cell_type": "code",
   "execution_count": 2,
   "metadata": {
    "deletable": false,
    "editable": false,
    "nbgrader": {
     "cell_type": "code",
     "checksum": "ef63564b73122595c05ec5c0a1049dd2",
     "grade": false,
     "grade_id": "cell-ea491e68f09cc1a3",
     "locked": true,
     "schema_version": 3,
     "solution": false,
     "task": false
    }
   },
   "outputs": [
    {
     "name": "stdout",
     "output_type": "stream",
     "text": [
      "Número de filas: 561, Número de columnas:10\n"
     ]
    },
    {
     "data": {
      "text/html": [
       "<div>\n",
       "<style scoped>\n",
       "    .dataframe tbody tr th:only-of-type {\n",
       "        vertical-align: middle;\n",
       "    }\n",
       "\n",
       "    .dataframe tbody tr th {\n",
       "        vertical-align: top;\n",
       "    }\n",
       "\n",
       "    .dataframe thead th {\n",
       "        text-align: right;\n",
       "    }\n",
       "</style>\n",
       "<table border=\"1\" class=\"dataframe\">\n",
       "  <thead>\n",
       "    <tr style=\"text-align: right;\">\n",
       "      <th></th>\n",
       "      <th>duration</th>\n",
       "      <th>protocol_type</th>\n",
       "      <th>service</th>\n",
       "      <th>flag</th>\n",
       "      <th>count</th>\n",
       "      <th>srv_count</th>\n",
       "      <th>serror_rate</th>\n",
       "      <th>dst_host_srv_count</th>\n",
       "      <th>dst_host_srv_serror_rate</th>\n",
       "      <th>labels</th>\n",
       "    </tr>\n",
       "  </thead>\n",
       "  <tbody>\n",
       "    <tr>\n",
       "      <th>0</th>\n",
       "      <td>0</td>\n",
       "      <td>b'tcp'</td>\n",
       "      <td>b'http'</td>\n",
       "      <td>b'SF'</td>\n",
       "      <td>0</td>\n",
       "      <td>0</td>\n",
       "      <td>0.0</td>\n",
       "      <td>0</td>\n",
       "      <td>0.0</td>\n",
       "      <td>b'normal.'</td>\n",
       "    </tr>\n",
       "    <tr>\n",
       "      <th>1</th>\n",
       "      <td>0</td>\n",
       "      <td>b'tcp'</td>\n",
       "      <td>b'http'</td>\n",
       "      <td>b'SF'</td>\n",
       "      <td>0</td>\n",
       "      <td>0</td>\n",
       "      <td>0.0</td>\n",
       "      <td>1</td>\n",
       "      <td>0.0</td>\n",
       "      <td>b'normal.'</td>\n",
       "    </tr>\n",
       "    <tr>\n",
       "      <th>2</th>\n",
       "      <td>0</td>\n",
       "      <td>b'tcp'</td>\n",
       "      <td>b'http'</td>\n",
       "      <td>b'SF'</td>\n",
       "      <td>0</td>\n",
       "      <td>1</td>\n",
       "      <td>0.0</td>\n",
       "      <td>1</td>\n",
       "      <td>0.0</td>\n",
       "      <td>b'normal.'</td>\n",
       "    </tr>\n",
       "    <tr>\n",
       "      <th>3</th>\n",
       "      <td>0</td>\n",
       "      <td>b'tcp'</td>\n",
       "      <td>b'http'</td>\n",
       "      <td>b'SF'</td>\n",
       "      <td>0</td>\n",
       "      <td>0</td>\n",
       "      <td>1.0</td>\n",
       "      <td>1</td>\n",
       "      <td>0.0</td>\n",
       "      <td>b'normal.'</td>\n",
       "    </tr>\n",
       "    <tr>\n",
       "      <th>4</th>\n",
       "      <td>0</td>\n",
       "      <td>b'tcp'</td>\n",
       "      <td>b'http'</td>\n",
       "      <td>b'SF'</td>\n",
       "      <td>0</td>\n",
       "      <td>0</td>\n",
       "      <td>0.0</td>\n",
       "      <td>1</td>\n",
       "      <td>1.0</td>\n",
       "      <td>b'normal.'</td>\n",
       "    </tr>\n",
       "  </tbody>\n",
       "</table>\n",
       "</div>"
      ],
      "text/plain": [
       "   duration protocol_type  service   flag  count  srv_count  serror_rate  \\\n",
       "0         0        b'tcp'  b'http'  b'SF'      0          0          0.0   \n",
       "1         0        b'tcp'  b'http'  b'SF'      0          0          0.0   \n",
       "2         0        b'tcp'  b'http'  b'SF'      0          1          0.0   \n",
       "3         0        b'tcp'  b'http'  b'SF'      0          0          1.0   \n",
       "4         0        b'tcp'  b'http'  b'SF'      0          0          0.0   \n",
       "\n",
       "   dst_host_srv_count  dst_host_srv_serror_rate      labels  \n",
       "0                   0                       0.0  b'normal.'  \n",
       "1                   1                       0.0  b'normal.'  \n",
       "2                   1                       0.0  b'normal.'  \n",
       "3                   1                       0.0  b'normal.'  \n",
       "4                   1                       1.0  b'normal.'  "
      ]
     },
     "execution_count": 2,
     "metadata": {},
     "output_type": "execute_result"
    }
   ],
   "source": [
    "df = pd.read_csv('https://raw.githubusercontent.com/eduardofc/data/main/kddcup99.csv')\n",
    "\n",
    "print(f'Número de filas: {df.shape[0]}, Número de columnas:{df.shape[1]}')\n",
    "df.head()"
   ]
  },
  {
   "cell_type": "markdown",
   "metadata": {
    "deletable": false,
    "editable": false,
    "nbgrader": {
     "cell_type": "markdown",
     "checksum": "3ec2d84409e4a93c9e89ef1cc7712dbf",
     "grade": false,
     "grade_id": "cell-a196be290eb56313",
     "locked": true,
     "schema_version": 3,
     "solution": false,
     "task": false
    }
   },
   "source": [
    "Para entender la evolución de las transformaciones que vamos a ir haciendo, practicaremos algunos de los plots más utilizados. \n",
    "\n",
    "En la siguiente celda se pide, mostrar un _countplot_ (_barplot_ de seaborn) para todas las variables del _dataframe_ (df)."
   ]
  },
  {
   "cell_type": "code",
   "execution_count": 3,
   "metadata": {
    "deletable": false,
    "nbgrader": {
     "cell_type": "code",
     "checksum": "6cd4606bcb52663e9237a0fef334d42e",
     "grade": false,
     "grade_id": "cell-a15861a1f91032f7",
     "locked": false,
     "schema_version": 3,
     "solution": true,
     "task": false
    }
   },
   "outputs": [
    {
     "data": {
      "image/png": "[encoded data removed]",
      "text/plain": [
       "<Figure size 1000x1000 with 10 Axes>"
      ]
     },
     "metadata": {},
     "output_type": "display_data"
    }
   ],
   "source": [
    "#______________________ MY CODE HERE\n",
    "\n",
    "variables = df.columns\n",
    "\n",
    "fig  = plt.figure(figsize=(10,10))\n",
    "for i in range(len(variables)):\n",
    "    plt.subplot( 5, 2, i+1) \n",
    "    X = df[variables[i]] \n",
    "    sns.countplot(  data=df, x= X ) \n",
    "plt.show() "
   ]
  },
  {
   "cell_type": "markdown",
   "metadata": {
    "deletable": false,
    "editable": false,
    "nbgrader": {
     "cell_type": "markdown",
     "checksum": "9b3120ce2643aff77118cfdb0f4f59e0",
     "grade": false,
     "grade_id": "cell-c7033e84359e60a4",
     "locked": true,
     "schema_version": 3,
     "solution": false,
     "task": false
    }
   },
   "source": [
    "Trabajaremos las variables categóricas con __pandas__. Trataremos de reducir el número de variables categóricas cuando existen demasiadas casuísiticas o cuando existen muy pocos registros en una categoría. \n",
    "\n",
    "En esta celda se pide, \n",
    "- para la variables _service_, localizar las 6 categorías más frecuentes y transformar estas columnas para que ponga _resto_ a todos aquellos registros de estas variables que no están entre las frecuentes, dejando así 7 catgorías en total.\n",
    "- para la variables _flag_, localizar las 4 categorías más frecuentes y transformar estas columnas para que ponga _resto_ a todos aquellos registros de estas variables que no están entre las frecuentes, dejando así 5 catgorías en total.\n",
    "\n",
    "Finalmente, eliminad duplicados."
   ]
  },
  {
   "cell_type": "code",
   "execution_count": 4,
   "metadata": {
    "deletable": false,
    "nbgrader": {
     "cell_type": "code",
     "checksum": "2f2dc6d667fe1800296655552439ce57",
     "grade": false,
     "grade_id": "cell-a5a25314bd66e4a1",
     "locked": false,
     "schema_version": 3,
     "solution": true,
     "task": false
    }
   },
   "outputs": [
    {
     "data": {
      "text/plain": [
       "labels\n",
       "b'neptune.'     61\n",
       "b'normal.'     149\n",
       "dtype: int64"
      ]
     },
     "execution_count": 4,
     "metadata": {},
     "output_type": "execute_result"
    }
   ],
   "source": [
    "# YOUR CODE HERE\n",
    "\n",
    "#Service\n",
    "categorias = df.groupby('service').size().sort_values(ascending=False)[0:6].index\n",
    "categorias\n",
    "df['service'] = df.service.apply(lambda x: 'resto' if x not in categorias else x) \n",
    "df.groupby('service').size().sort_values(ascending=False) \n",
    "\n",
    "\n",
    "#Flag\n",
    "categorias = df.groupby('flag').size().sort_values(ascending=False)[0:4].index\n",
    "categorias\n",
    "df['flag'] = df.flag.apply(lambda x: 'resto' if x not in categorias else x) \n",
    "df.groupby('flag').size().sort_values(ascending=False) \n",
    "\n",
    "\n",
    "# Duplicados\n",
    "df = df[~df.duplicated()]\n",
    "\n",
    "\n",
    "# \n",
    "df.groupby('labels').size()"
   ]
  },
  {
   "cell_type": "code",
   "execution_count": 5,
   "metadata": {},
   "outputs": [],
   "source": [
    "#df.groupby('service').size()[\"resto\"]\n",
    "#df.shape"
   ]
  },
  {
   "cell_type": "code",
   "execution_count": 6,
   "metadata": {},
   "outputs": [],
   "source": [
    "# df.groupby('flag').size()['resto']"
   ]
  },
  {
   "cell_type": "markdown",
   "metadata": {
    "deletable": false,
    "editable": false,
    "nbgrader": {
     "cell_type": "markdown",
     "checksum": "f7bdeb31704244962169b8844c4d7c31",
     "grade": false,
     "grade_id": "cell-ef4218ea50842482",
     "locked": true,
     "schema_version": 3,
     "solution": false,
     "task": false
    }
   },
   "source": [
    "Celda de control:"
   ]
  },
  {
   "cell_type": "code",
   "execution_count": 7,
   "metadata": {
    "deletable": false,
    "editable": false,
    "nbgrader": {
     "cell_type": "code",
     "checksum": "36e8d0a11f2dedfafa15ddcf7db7d979",
     "grade": true,
     "grade_id": "cell-f34e386accfefe10",
     "locked": true,
     "points": 1,
     "schema_version": 3,
     "solution": false,
     "task": false
    }
   },
   "outputs": [],
   "source": [
    "assert df.shape == (210, 10)\n",
    "assert df.groupby('service').size()[\"resto\"] == 44\n",
    "assert df.groupby('flag').size()['resto'] == 25"
   ]
  },
  {
   "cell_type": "markdown",
   "metadata": {
    "deletable": false,
    "editable": false,
    "nbgrader": {
     "cell_type": "markdown",
     "checksum": "4af040ef2774a08719a7dbaf7eb4b354",
     "grade": false,
     "grade_id": "cell-13029ef7207a7ef3",
     "locked": true,
     "schema_version": 3,
     "solution": false,
     "task": false
    }
   },
   "source": [
    "## Parte 2: Modelos\n",
    "\n",
    "En esta parte, testearemos distintos modelos con trasnformaciones adicionales a las vistas en la Lista 1 de Ejercicios.\n",
    "\n",
    "Nota: Recordar utilizar la semilla cuando aplique."
   ]
  },
  {
   "cell_type": "code",
   "execution_count": 8,
   "metadata": {
    "deletable": false,
    "editable": false,
    "nbgrader": {
     "cell_type": "code",
     "checksum": "627bad94598d0531a7d3d292b36f901e",
     "grade": false,
     "grade_id": "cell-cc9160fb2e1ce323",
     "locked": true,
     "schema_version": 3,
     "solution": false,
     "task": false
    }
   },
   "outputs": [],
   "source": [
    "models = []\n",
    "models.append(('LR', LogisticRegression(random_state=seed)))\n",
    "models.append(('DTC', DecisionTreeClassifier(random_state=seed)))\n",
    "models.append(('PER', Perceptron()))\n",
    "models.append(('RFC', RandomForestClassifier(random_state=seed)))\n",
    "\n",
    "def boxplots_algorithms(results, names):\n",
    "    plt.figure(figsize=(8,4))\n",
    "    plt.boxplot(results)\n",
    "    plt.xticks(range(1,len(names)+1), names)\n",
    "    plt.show()\n",
    "    \n",
    "def pca_results(results, names, components):\n",
    "    df2 = pd.DataFrame(zip(results, names, components), columns=['results', 'names', 'components'])\n",
    "    \n",
    "    sns.catplot(data=df2, kind=\"bar\", x=\"names\", y=\"results\", hue=\"components\", height=5, aspect=15/5)\n",
    "    plt.ylim((0.6, 1.))\n",
    "    plt.show()\n",
    "    \n",
    "cat_cols = ['protocol_type', 'service', 'flag']\n",
    "num_cols = ['duration', 'count', 'srv_count', 'serror_rate', \n",
    "            'dst_host_srv_count', 'dst_host_srv_serror_rate']\n",
    "target = 'labels'"
   ]
  },
  {
   "cell_type": "markdown",
   "metadata": {
    "deletable": false,
    "editable": false,
    "nbgrader": {
     "cell_type": "markdown",
     "checksum": "fd083afae0b48cbff595ff960bff379d",
     "grade": false,
     "grade_id": "cell-a7131c8fd4aeb634",
     "locked": true,
     "schema_version": 3,
     "solution": false,
     "task": false
    }
   },
   "source": [
    "### Modelos 1 \n",
    "\n",
    "Realizar un estudio de machine learning con las siguientes características:\n",
    "* probar los 5 algoritmos en bucle\n",
    "* usar la técnica de validación cruzada StratifiedKFold (5 _folds_) de forma aleatoria.\n",
    "* entrenar solo con variables numéricas\n",
    "\n",
    "En cada iteración del bucle, almacenar el resultado de cada validación cruzada en una variable _results_ y los nombres de cada algoritmo en una variable _names_.\n",
    "\n",
    "Finalmente, usaremos la función *boxplots_algorithms* para dibujar los resultados.\n",
    "\n",
    "Nota: La función _cross_val_score_ nos vale para estudiar el comportamiento de los modelos con una validación cruzada."
   ]
  },
  {
   "cell_type": "code",
   "execution_count": 9,
   "metadata": {
    "deletable": false,
    "nbgrader": {
     "cell_type": "code",
     "checksum": "6c29fc6c7bdfbbfbd0d03bd12ada6a30",
     "grade": false,
     "grade_id": "cell-09c4daa9d9a689f8",
     "locked": false,
     "schema_version": 3,
     "solution": true,
     "task": false
    }
   },
   "outputs": [
    {
     "name": "stdout",
     "output_type": "stream",
     "text": [
      "LR: 0.838095 (0.062814)\n",
      "DTC: 0.814286 (0.060982)\n",
      "PER: 0.738095 (0.078246)\n",
      "RFC: 0.833333 (0.056344)\n"
     ]
    },
    {
     "data": {
      "image/png": "[encoded data removed]",
      "text/plain": [
       "<Figure size 800x400 with 1 Axes>"
      ]
     },
     "metadata": {},
     "output_type": "display_data"
    }
   ],
   "source": [
    "results = []\n",
    "names = []\n",
    "\n",
    "# YOUR CODE HERE\n",
    "X = df[num_cols]\n",
    "y = df[target]\n",
    "\n",
    "\n",
    "for name, model in models:\n",
    "\n",
    "    pipeline = Pipeline([('model', model)])\n",
    "\n",
    "    cv_technique = StratifiedKFold(n_splits=5, shuffle = True, random_state = seed ) #  cross-validation\n",
    "    cv_results = cross_val_score(pipeline, X, y, scoring= 'accuracy', cv = cv_technique) \n",
    "    \n",
    "    msg = \"%s: %f (%f)\" % (name, cv_results.mean(), cv_results.std())\n",
    "    print(msg)\n",
    "    \n",
    "    results.append(cv_results)\n",
    "    names.append(name)\n",
    "\n",
    "\n",
    "\n",
    "boxplots_algorithms(results, names)"
   ]
  },
  {
   "cell_type": "markdown",
   "metadata": {
    "deletable": false,
    "editable": false,
    "nbgrader": {
     "cell_type": "markdown",
     "checksum": "40a70bd83854fd262f2d141bed6abf8c",
     "grade": false,
     "grade_id": "cell-8d2e9053f818a102",
     "locked": true,
     "schema_version": 3,
     "solution": false,
     "task": false
    }
   },
   "source": [
    "Celda de control:"
   ]
  },
  {
   "cell_type": "code",
   "execution_count": 10,
   "metadata": {
    "deletable": false,
    "editable": false,
    "nbgrader": {
     "cell_type": "code",
     "checksum": "31913eb88adea589fe6408d12d285d16",
     "grade": true,
     "grade_id": "cell-4787932c001bbea8",
     "locked": true,
     "points": 2,
     "schema_version": 3,
     "solution": false,
     "task": false
    }
   },
   "outputs": [],
   "source": [
    "assert np.round(results[0].mean(),3) == 0.838\n",
    "assert np.round(results[1].mean(),3) == 0.814\n",
    "assert np.round(results[2].mean(),3) == 0.738\n",
    "assert np.round(results[3].mean(),3) == 0.833"
   ]
  },
  {
   "cell_type": "markdown",
   "metadata": {
    "deletable": false,
    "editable": false,
    "nbgrader": {
     "cell_type": "markdown",
     "checksum": "ba1c99c1eb8646ca44216756c3b00af8",
     "grade": false,
     "grade_id": "cell-deb8e35d9f8934f2",
     "locked": true,
     "schema_version": 3,
     "solution": false,
     "task": false
    }
   },
   "source": [
    "### Modelos 2\n",
    "\n",
    "Realizar un estudio de machine learning con las siguientes características:\n",
    "* probar los 5 algoritmos en bucle\n",
    "* usar la técnica de validación cruzada KFolds (5 _folds_) aleatoria\n",
    "* usar un pipeline que encadene \n",
    "    * OneHotEncoder simple con las variables categóricas\n",
    "    * algortimo \n",
    "    * _remainder_ tipo _drop_\n",
    "* Filtrar en X todas las variables**\n",
    "\n",
    "\\*\\*Nota: Aunque la opción de _drop_ en el ColumnTransformer haga que solo se entrene con las variables que son usadas en este transformador, vamos a filtrar *X = df[cat_cols+num_cols]* para que podamos explorar la mejora en el siguiente apartado."
   ]
  },
  {
   "cell_type": "code",
   "execution_count": 11,
   "metadata": {},
   "outputs": [],
   "source": [
    "from sklearn.model_selection import KFold"
   ]
  },
  {
   "cell_type": "code",
   "execution_count": 12,
   "metadata": {},
   "outputs": [
    {
     "data": {
      "text/html": [
       "<div>\n",
       "<style scoped>\n",
       "    .dataframe tbody tr th:only-of-type {\n",
       "        vertical-align: middle;\n",
       "    }\n",
       "\n",
       "    .dataframe tbody tr th {\n",
       "        vertical-align: top;\n",
       "    }\n",
       "\n",
       "    .dataframe thead th {\n",
       "        text-align: right;\n",
       "    }\n",
       "</style>\n",
       "<table border=\"1\" class=\"dataframe\">\n",
       "  <thead>\n",
       "    <tr style=\"text-align: right;\">\n",
       "      <th></th>\n",
       "      <th>duration</th>\n",
       "      <th>count</th>\n",
       "      <th>srv_count</th>\n",
       "      <th>serror_rate</th>\n",
       "      <th>dst_host_srv_count</th>\n",
       "      <th>dst_host_srv_serror_rate</th>\n",
       "    </tr>\n",
       "  </thead>\n",
       "  <tbody>\n",
       "    <tr>\n",
       "      <th>0</th>\n",
       "      <td>0</td>\n",
       "      <td>0</td>\n",
       "      <td>0</td>\n",
       "      <td>0.0</td>\n",
       "      <td>0</td>\n",
       "      <td>0.0</td>\n",
       "    </tr>\n",
       "    <tr>\n",
       "      <th>1</th>\n",
       "      <td>0</td>\n",
       "      <td>0</td>\n",
       "      <td>0</td>\n",
       "      <td>0.0</td>\n",
       "      <td>1</td>\n",
       "      <td>0.0</td>\n",
       "    </tr>\n",
       "    <tr>\n",
       "      <th>2</th>\n",
       "      <td>0</td>\n",
       "      <td>0</td>\n",
       "      <td>1</td>\n",
       "      <td>0.0</td>\n",
       "      <td>1</td>\n",
       "      <td>0.0</td>\n",
       "    </tr>\n",
       "    <tr>\n",
       "      <th>3</th>\n",
       "      <td>0</td>\n",
       "      <td>0</td>\n",
       "      <td>0</td>\n",
       "      <td>1.0</td>\n",
       "      <td>1</td>\n",
       "      <td>0.0</td>\n",
       "    </tr>\n",
       "    <tr>\n",
       "      <th>4</th>\n",
       "      <td>0</td>\n",
       "      <td>0</td>\n",
       "      <td>0</td>\n",
       "      <td>0.0</td>\n",
       "      <td>1</td>\n",
       "      <td>1.0</td>\n",
       "    </tr>\n",
       "    <tr>\n",
       "      <th>...</th>\n",
       "      <td>...</td>\n",
       "      <td>...</td>\n",
       "      <td>...</td>\n",
       "      <td>...</td>\n",
       "      <td>...</td>\n",
       "      <td>...</td>\n",
       "    </tr>\n",
       "    <tr>\n",
       "      <th>556</th>\n",
       "      <td>0</td>\n",
       "      <td>0</td>\n",
       "      <td>0</td>\n",
       "      <td>1.0</td>\n",
       "      <td>1</td>\n",
       "      <td>1.0</td>\n",
       "    </tr>\n",
       "    <tr>\n",
       "      <th>557</th>\n",
       "      <td>0</td>\n",
       "      <td>0</td>\n",
       "      <td>1</td>\n",
       "      <td>1.0</td>\n",
       "      <td>1</td>\n",
       "      <td>1.0</td>\n",
       "    </tr>\n",
       "    <tr>\n",
       "      <th>558</th>\n",
       "      <td>0</td>\n",
       "      <td>0</td>\n",
       "      <td>0</td>\n",
       "      <td>1.0</td>\n",
       "      <td>1</td>\n",
       "      <td>1.0</td>\n",
       "    </tr>\n",
       "    <tr>\n",
       "      <th>559</th>\n",
       "      <td>1</td>\n",
       "      <td>0</td>\n",
       "      <td>0</td>\n",
       "      <td>0.0</td>\n",
       "      <td>1</td>\n",
       "      <td>1.0</td>\n",
       "    </tr>\n",
       "    <tr>\n",
       "      <th>560</th>\n",
       "      <td>1</td>\n",
       "      <td>0</td>\n",
       "      <td>0</td>\n",
       "      <td>0.0</td>\n",
       "      <td>1</td>\n",
       "      <td>1.0</td>\n",
       "    </tr>\n",
       "  </tbody>\n",
       "</table>\n",
       "<p>210 rows × 6 columns</p>\n",
       "</div>"
      ],
      "text/plain": [
       "     duration  count  srv_count  serror_rate  dst_host_srv_count  \\\n",
       "0           0      0          0          0.0                   0   \n",
       "1           0      0          0          0.0                   1   \n",
       "2           0      0          1          0.0                   1   \n",
       "3           0      0          0          1.0                   1   \n",
       "4           0      0          0          0.0                   1   \n",
       "..        ...    ...        ...          ...                 ...   \n",
       "556         0      0          0          1.0                   1   \n",
       "557         0      0          1          1.0                   1   \n",
       "558         0      0          0          1.0                   1   \n",
       "559         1      0          0          0.0                   1   \n",
       "560         1      0          0          0.0                   1   \n",
       "\n",
       "     dst_host_srv_serror_rate  \n",
       "0                         0.0  \n",
       "1                         0.0  \n",
       "2                         0.0  \n",
       "3                         0.0  \n",
       "4                         1.0  \n",
       "..                        ...  \n",
       "556                       1.0  \n",
       "557                       1.0  \n",
       "558                       1.0  \n",
       "559                       1.0  \n",
       "560                       1.0  \n",
       "\n",
       "[210 rows x 6 columns]"
      ]
     },
     "execution_count": 12,
     "metadata": {},
     "output_type": "execute_result"
    }
   ],
   "source": [
    "X"
   ]
  },
  {
   "cell_type": "code",
   "execution_count": 13,
   "metadata": {
    "deletable": false,
    "nbgrader": {
     "cell_type": "code",
     "checksum": "db51858663007222b17b818dd7683649",
     "grade": false,
     "grade_id": "cell-444a8be19a0a9fb0",
     "locked": false,
     "schema_version": 3,
     "solution": true,
     "task": false
    }
   },
   "outputs": [
    {
     "name": "stdout",
     "output_type": "stream",
     "text": [
      "LR: 0.852381 (0.038095)\n",
      "DTC: 0.876190 (0.038095)\n",
      "PER: 0.847619 (0.032297)\n",
      "RFC: 0.866667 (0.028571)\n"
     ]
    },
    {
     "data": {
      "image/png": "[encoded data removed]",
      "text/plain": [
       "<Figure size 800x400 with 1 Axes>"
      ]
     },
     "metadata": {},
     "output_type": "display_data"
    }
   ],
   "source": [
    "results = []\n",
    "names = []\n",
    "\n",
    "# YOUR CODE HERE\n",
    "\n",
    "\n",
    "cols = ['protocol_type', 'service', 'flag','duration', 'count', 'srv_count', 'serror_rate', \n",
    "            'dst_host_srv_count', 'dst_host_srv_serror_rate']\n",
    "X = df[cat_cols+num_cols]\n",
    "y = df[target]\n",
    "\n",
    "col_transformer = ColumnTransformer( [('OneHotEncoder',OneHotEncoder(), cat_cols)] , remainder='drop')\n",
    "\n",
    "for name, model in models:\n",
    "    #pipeline = Pipeline([('model', model)])\n",
    "    pipeline = make_pipeline( col_transformer,   model)\n",
    "    \n",
    "    cv_technique = KFold(n_splits=5, shuffle = True, random_state = seed  ) #  cross-validation  #shuffle = True, ,  random_state = seed\n",
    "    cv_results = cross_val_score(pipeline, X, y, scoring= 'accuracy', cv = cv_technique)       #  \n",
    "    \n",
    "    msg = \"%s: %f (%f)\" % (name, cv_results.mean(), cv_results.std())\n",
    "    print(msg)\n",
    "    \n",
    "    results.append(cv_results)\n",
    "    names.append(name)\n",
    "\n",
    "\n",
    "\n",
    "\n",
    "\n",
    "boxplots_algorithms(results, names)"
   ]
  },
  {
   "cell_type": "markdown",
   "metadata": {
    "deletable": false,
    "editable": false,
    "nbgrader": {
     "cell_type": "markdown",
     "checksum": "d435c2fda12c9a9cbf7e946ddeed2510",
     "grade": false,
     "grade_id": "cell-51fa3f4c2a9bca5e",
     "locked": true,
     "schema_version": 3,
     "solution": false,
     "task": false
    }
   },
   "source": [
    "Celda de control:"
   ]
  },
  {
   "cell_type": "code",
   "execution_count": 14,
   "metadata": {
    "deletable": false,
    "editable": false,
    "nbgrader": {
     "cell_type": "code",
     "checksum": "3bb4cc41f3d2b8a3ed3aa62ec81852f8",
     "grade": true,
     "grade_id": "cell-55e762bdf9990d27",
     "locked": true,
     "points": 2,
     "schema_version": 3,
     "solution": false,
     "task": false
    }
   },
   "outputs": [],
   "source": [
    "assert np.round(results[0].mean(),3) == 0.852\n",
    "assert np.round(results[1].mean(),3) == 0.876\n",
    "assert np.round(results[2].mean(),3) == 0.848\n",
    "assert np.round(results[3].mean(),3) == 0.867"
   ]
  },
  {
   "cell_type": "markdown",
   "metadata": {
    "deletable": false,
    "editable": false,
    "nbgrader": {
     "cell_type": "markdown",
     "checksum": "8935123ebd044a3ff09cf6d350c683e9",
     "grade": false,
     "grade_id": "cell-59cc50a8317dc182",
     "locked": true,
     "schema_version": 3,
     "solution": false,
     "task": false
    }
   },
   "source": [
    "### Modelos 3\n",
    "\n",
    "Realizar un mismo estudio que en Modelos 2, pero esta vez cambiando, la opción _remainder_ a tipo _passthrough_.\n",
    "\n",
    "Nota, se recomienda que estudiar el significado de este argumento y reflexionar sobre los resultados."
   ]
  },
  {
   "cell_type": "code",
   "execution_count": 15,
   "metadata": {
    "deletable": false,
    "nbgrader": {
     "cell_type": "code",
     "checksum": "e1c8073c97bf79ae6b346ff4746861e3",
     "grade": false,
     "grade_id": "cell-4146020f04d16253",
     "locked": false,
     "schema_version": 3,
     "solution": true,
     "task": false
    }
   },
   "outputs": [
    {
     "name": "stdout",
     "output_type": "stream",
     "text": [
      "LR: 0.923810 (0.040963)\n",
      "DTC: 0.890476 (0.038686)\n",
      "PER: 0.885714 (0.031587)\n",
      "RFC: 0.909524 (0.031587)\n"
     ]
    },
    {
     "data": {
      "image/png": "[encoded data removed]",
      "text/plain": [
       "<Figure size 800x400 with 1 Axes>"
      ]
     },
     "metadata": {},
     "output_type": "display_data"
    }
   ],
   "source": [
    "results = []\n",
    "names = []\n",
    "\n",
    "# YOUR CODE HERE\n",
    "col_transformer = ColumnTransformer( [('OneHotEncoder',OneHotEncoder(), cat_cols)] , remainder='passthrough')\n",
    "\n",
    "for name, model in models:\n",
    "    #pipeline = Pipeline([('model', model)])\n",
    "    pipeline = make_pipeline( col_transformer,   model)\n",
    "    \n",
    "    cv_technique = KFold(n_splits=5, shuffle = True, random_state = seed  ) #  cross-validation  #shuffle = True, ,  random_state = seed\n",
    "    cv_results = cross_val_score(pipeline, X, y, scoring= 'accuracy', cv = cv_technique)       #  \n",
    "    \n",
    "    msg = \"%s: %f (%f)\" % (name, cv_results.mean(), cv_results.std())\n",
    "    print(msg)\n",
    "    \n",
    "    results.append(cv_results)\n",
    "    names.append(name)\n",
    "    \n",
    "\n",
    "boxplots_algorithms(results, names)"
   ]
  },
  {
   "cell_type": "markdown",
   "metadata": {
    "deletable": false,
    "editable": false,
    "nbgrader": {
     "cell_type": "markdown",
     "checksum": "06b3619b0832ff08944ba1519a46d11e",
     "grade": false,
     "grade_id": "cell-467dc91a009ad969",
     "locked": true,
     "schema_version": 3,
     "solution": false,
     "task": false
    }
   },
   "source": [
    "Celda de control:"
   ]
  },
  {
   "cell_type": "code",
   "execution_count": 16,
   "metadata": {
    "deletable": false,
    "editable": false,
    "nbgrader": {
     "cell_type": "code",
     "checksum": "1af235c07f77fa0642f11b0f4ce8193b",
     "grade": true,
     "grade_id": "cell-d8aa9f9022be8701",
     "locked": true,
     "points": 1,
     "schema_version": 3,
     "solution": false,
     "task": false
    }
   },
   "outputs": [],
   "source": [
    "assert np.round(results[0].mean(),3) == 0.924\n",
    "assert np.round(results[1].mean(),3) == 0.890\n",
    "assert np.round(results[2].mean(),3) == 0.886\n",
    "assert np.round(results[3].mean(),3) == 0.910"
   ]
  },
  {
   "cell_type": "markdown",
   "metadata": {
    "deletable": false,
    "editable": false,
    "nbgrader": {
     "cell_type": "markdown",
     "checksum": "fa0961c4889c8a7d9d20789ce1728304",
     "grade": false,
     "grade_id": "cell-f4cd46d4888f3ea0",
     "locked": true,
     "schema_version": 3,
     "solution": false,
     "task": false
    }
   },
   "source": [
    "### Modelos 4\n",
    "\n",
    "Vamos a tratar de explorar si mejorarmos el modelo mediante una transformación de PCA. Usaremos las mismas (X,y). En esta celda se pide, realizar un estudio de machine learning en bucle con las siguientes características: \n",
    "* probad 5 algoritmos en bucle\n",
    "* probad 4 PCA dentro del pipeline y en bucle (dentro del bucle anterior) con _n\\_components_=2,3,4,5, para cada algoritmo \n",
    "* usad la técnica de validación Folds (5 folds) aleatorio\n",
    "* usad un pipeline que encadene \n",
    "     * One-hot-encoder con las variables categoricas, especificando eliminar la primera columna si es binaria\n",
    "     * PCA\n",
    "     * algortimo \n",
    "* mostrad la matriz de confusión en cada caso\n",
    "\n",
    "En cada iteración del bucle, almacenar la media de cada resultado de cada validación cruzada en una variable _results_ y los nombres de cada algoritmo en una variable _names_. Además, se pide guardar las componentes en la lista _components_ (que debe quedar así [2,2,2,2,3,3,3,3,4,4,4,4,5,5,5,5]) \n",
    "\n",
    "Finalmente, usaremos la función *pca_results* para dibujar los resultados.\n",
    "\n",
    "Nota 1, ojo que esta vez se pide guardar la media de los resultados, no todos los resultados.\n",
    "\n",
    "Nota 2, revisad que primero sea un bucle de modelos y dentro un bucle de componentes. "
   ]
  },
  {
   "cell_type": "code",
   "execution_count": 17,
   "metadata": {
    "deletable": false,
    "nbgrader": {
     "cell_type": "code",
     "checksum": "6f7c59fa8e6571dd76e60905192db9ee",
     "grade": false,
     "grade_id": "cell-db68daa0a2cf64ff",
     "locked": false,
     "schema_version": 3,
     "solution": true,
     "task": false
    }
   },
   "outputs": [
    {
     "name": "stdout",
     "output_type": "stream",
     "text": [
      "LR: 0.861905 (0.066326)\n",
      "LR: 0.900000 (0.040963)\n",
      "LR: 0.900000 (0.040963)\n",
      "LR: 0.900000 (0.040963)\n",
      "DTC: 0.857143 (0.054294)\n",
      "DTC: 0.880952 (0.047619)\n",
      "DTC: 0.876190 (0.038095)\n",
      "DTC: 0.876190 (0.046168)\n",
      "PER: 0.857143 (0.067344)\n",
      "PER: 0.890476 (0.024281)\n",
      "PER: 0.890476 (0.035635)\n",
      "PER: 0.866667 (0.101686)\n",
      "RFC: 0.866667 (0.057538)\n",
      "RFC: 0.885714 (0.040963)\n",
      "RFC: 0.885714 (0.040963)\n",
      "RFC: 0.880952 (0.042592)\n"
     ]
    },
    {
     "data": {
      "image/png": "[encoded data removed]",
      "text/plain": [
       "<Figure size 1586.61x500 with 1 Axes>"
      ]
     },
     "metadata": {},
     "output_type": "display_data"
    }
   ],
   "source": [
    "results = []\n",
    "names = []\n",
    "components = []\n",
    "\n",
    "# ______________________ My CODE HERE\n",
    "# Tomando en cuenta la celda de comprobacion, asumo que hay dos errores en el enunciado:\n",
    "# - Estoy usando KFold en la verificacion cruzada. \n",
    "# - El vector components, tambien me queda en un orden diferente al del enunciado;\n",
    "# components = ['2', '3', '4', '5', '2', '3', '4', '5', '2', '3', '4', '5','2','3','4','5']\n",
    "\n",
    "n_components=[2,3,4,5]\n",
    "col_transformer = ColumnTransformer( [('OneHotEncoder',OneHotEncoder(drop='if_binary'), cat_cols)] , \n",
    "                                    remainder='passthrough' )\n",
    "for name, model in models: \n",
    "        \n",
    "    for ncomp in n_components:\n",
    "    \n",
    "        pca = PCA(n_components=ncomp)\n",
    "        pipeline = make_pipeline( col_transformer,  pca, model) \n",
    "        cv_technique = KFold(n_splits=5, shuffle = True, random_state = seed  ) #  cross-validation\n",
    "        cv_results = cross_val_score(pipeline, X, y, scoring= 'accuracy', cv = cv_technique)       #  \n",
    "\n",
    "        msg = \"%s: %f (%f)\" % (name, cv_results.mean(), cv_results.std())\n",
    "        print(msg)\n",
    "\n",
    "        results.append(cv_results.mean())\n",
    "        names.append(name)\n",
    "        components.append(str(ncomp))\n",
    "\n",
    "pca_results(results, names, components)"
   ]
  },
  {
   "cell_type": "markdown",
   "metadata": {
    "deletable": false,
    "editable": false,
    "nbgrader": {
     "cell_type": "markdown",
     "checksum": "68017143f759c90cdd75d4f2ddeda19c",
     "grade": false,
     "grade_id": "cell-0f4e6c0f858bae6a",
     "locked": true,
     "schema_version": 3,
     "solution": false,
     "task": false
    }
   },
   "source": [
    "Celda de control:"
   ]
  },
  {
   "cell_type": "code",
   "execution_count": 18,
   "metadata": {
    "deletable": false,
    "editable": false,
    "nbgrader": {
     "cell_type": "code",
     "checksum": "cbdbb04b236ef56d15cc539c77ff3a8e",
     "grade": true,
     "grade_id": "cell-7196386542db0508",
     "locked": true,
     "points": 3,
     "schema_version": 3,
     "solution": false,
     "task": false
    }
   },
   "outputs": [],
   "source": [
    "assert [np.round(results[x], 3) for x in [1,7,10]] == [0.900, 0.876, 0.890]"
   ]
  },
  {
   "cell_type": "markdown",
   "metadata": {
    "deletable": false,
    "editable": false,
    "nbgrader": {
     "cell_type": "markdown",
     "checksum": "152e0962cfc7216e063ac93c8d492513",
     "grade": false,
     "grade_id": "cell-75af48b272ef32ec",
     "locked": true,
     "schema_version": 3,
     "solution": false,
     "task": false
    }
   },
   "source": [
    "### Modelos 5\n",
    "\n",
    "De ahora en adelante, trabajaremos solo con el algoritmo de RandomForestClassifier (sin PCA) y entrenaremos con todas las variables, teniendo en cuenta que las variables categóricas deben transformarse previamente con un OHE.\n",
    "\n",
    "En esta celda se pide, separar primero el _dataset_ en _train_ (80%) y _test_ (20%). Tras ello, solo con el _train_, se pide realizar un ajuste de machine learning con las siguientes características:\n",
    "\n",
    "* Sin validación cruzada\n",
    "* Usar un pipeline que encadene \n",
    "    * One-hot-encoder con las variables categóricas, especificando eliminar la primera columna si es binaria\n",
    "    * algortimo \n",
    "* Realizar la predicción de _train_ y _test_ por separado para poder mostrar ambas matrices de confusión.\n",
    "\n",
    "En esta parte, conviene reflexionar si se está haciendo _overfitting_. Al entrenar con _train_ y evaluar con _test_ después, si las métricas difieren demasiado a juicio del _data scientist_, podríamos considerar que pueda existir sobreajuste. Teóricamente la validación cruzada ayuda a minimizar este problema; sin embargo, no siempre es así (sobre todo con algoritmos de tipo árbol) y conviene chequear que esto no ocurra. En esta celda, se va a pedir almacenar el _accuracy_ del modelo para los conjuntos _train_ y _test_, y se van a almacenar en las variables _acc_train_ y _acc_test_.\n",
    "\n",
    "Otra cosa a tener en cuenta es la matriz de confusión. Ésta ofrece siempre el resultado de aplicar el modelo en la clasificación de una forma más legible, lo que ayuda a interpretar mejor el comportamiento de este modelo. En esta celda, almacenaremos ambas matrices de confusión en las variables _cm_train_ y _cm_test_.\n",
    "\n",
    "Nota, no olvidar la semilla."
   ]
  },
  {
   "cell_type": "code",
   "execution_count": 19,
   "metadata": {
    "deletable": false,
    "nbgrader": {
     "cell_type": "code",
     "checksum": "11303ef8b8a64b32907fa880272af1f8",
     "grade": false,
     "grade_id": "cell-f7165c2db7db0db0",
     "locked": false,
     "schema_version": 3,
     "solution": true,
     "task": false
    }
   },
   "outputs": [
    {
     "name": "stdout",
     "output_type": "stream",
     "text": [
      "[[ 47   2]\n",
      " [  3 116]]\n",
      "0.9702380952380952\n",
      "[[10  2]\n",
      " [ 2 28]]\n",
      "0.9047619047619048\n"
     ]
    }
   ],
   "source": [
    "acc_train = 0\n",
    "acc_test  = 0\n",
    "cm_train  = np.array([[0, 0],[0, 0]])\n",
    "cm_test   = np.array([[0, 0],[0, 0]])\n",
    "\n",
    "# --------------------------- YOUR CODE HERE\n",
    "X_train, X_test, y_train, y_test = train_test_split(X, y, test_size=0.2, random_state=seed)\n",
    "\n",
    "col_transformer = ColumnTransformer( [('OneHotEncoder',OneHotEncoder(drop='if_binary'), cat_cols)] , \n",
    "                                    remainder='passthrough' )\n",
    "\n",
    "alg      = RandomForestClassifier(random_state=seed) \n",
    "pipeline = make_pipeline( col_transformer,   alg)\n",
    "\n",
    "pipeline.fit(X_train, y_train) \n",
    "\n",
    "y_hat      = pipeline.predict( X_test)\n",
    "cm_train   = confusion_matrix( y_true = y_train,  y_pred = pipeline.predict( X_train))\n",
    "cm_test    = confusion_matrix( y_true = y_test,   y_pred = y_hat)\n",
    "\n",
    "acc_train  = pipeline.score(X_train, y_train)\n",
    "acc_test   = pipeline.score(X_test, y_test)\n",
    "\n",
    "print(cm_train)\n",
    "print(acc_train)\n",
    "\n",
    "print(cm_test)\n",
    "print(acc_test)"
   ]
  },
  {
   "cell_type": "markdown",
   "metadata": {
    "deletable": false,
    "editable": false,
    "nbgrader": {
     "cell_type": "markdown",
     "checksum": "e1305012e7ba747d2b66bf8995cb97bd",
     "grade": false,
     "grade_id": "cell-4c90f63864e1ad03",
     "locked": true,
     "schema_version": 3,
     "solution": false,
     "task": false
    }
   },
   "source": [
    "Celda de control:"
   ]
  },
  {
   "cell_type": "code",
   "execution_count": 20,
   "metadata": {
    "deletable": false,
    "editable": false,
    "nbgrader": {
     "cell_type": "code",
     "checksum": "7b01b2aa460e5b3150a8425edc1b2adc",
     "grade": true,
     "grade_id": "cell-500ece4ed7d8b320",
     "locked": true,
     "points": 3,
     "schema_version": 3,
     "solution": false,
     "task": false
    }
   },
   "outputs": [],
   "source": [
    "assert np.round(acc_train, 4) == 0.9702\n",
    "assert np.round(acc_test, 4) == 0.9048\n",
    "assert (cm_train[0][0], cm_train[0][1], cm_train[1][0], cm_train[1][1]) == (47, 2, 3, 116)\n",
    "assert (cm_test[0][0], cm_test[0][1], cm_test[1][0], cm_test[1][1]) == (10, 2, 2, 28)"
   ]
  },
  {
   "cell_type": "markdown",
   "metadata": {
    "deletable": false,
    "editable": false,
    "nbgrader": {
     "cell_type": "markdown",
     "checksum": "e68f030f49946c4fe10ed12845b9c5ed",
     "grade": false,
     "grade_id": "cell-8a9639c3a7928e08",
     "locked": true,
     "schema_version": 3,
     "solution": false,
     "task": false
    }
   },
   "source": [
    "### Modelos 6\n",
    "\n",
    "En el modelo previo, ya hemos encontrado un ajuste razonable. Ahora toca explorar si existe alguna parametrización que ayude a mejorar esta métrica. \n",
    "\n",
    "En esta celda, vamos a separar primero el dataset en train y test. En concreto, separaremos el 20% del dataset en el test-set con el que validaremos la calidad real del modelo. Sin embargo, aquí añadiremos el argumento *stratified* dentro del train_test_split para asegurarnos de que hace una correcta partición entre las variables *y*. \n",
    "\n",
    "Tras ello, solo con el _train_, se pide realizar un ajuste de machine learning con las siguientes características:\n",
    "* usar el mismo algoritmo que en el apartado anterior\n",
    "* usar la técnica de validación cruzada KFolds (5 folds) \n",
    "* usar un pipeline que encadene:\n",
    "     * OneHotEncoder si son tipo variables tipo _string_, especificando eliminar la primera columna si es binaria\n",
    "     * algortimo \n",
    "* realizar un tuneado del modelo con GridSearchCV (que almacenaremos en la variable *grid_model*) con los siguientes parámetros del algoritmo:\n",
    "     * _n\\_estimators_, 10, 20 y 30,\n",
    "     * *max_features*, auto, sqrt y log2,\n",
    "     * *max_depth*, 10, 20, 50, 70 y 100\n",
    "     * _criterion_, gini y entropy.\n",
    "    \n",
    "Con el mejor de los modelos tuneados, realizad la predicción de _train_ y _test_ para mostrar ambas matrices de confusión y accuracies como en la celda anterior."
   ]
  },
  {
   "cell_type": "code",
   "execution_count": 21,
   "metadata": {
    "deletable": false,
    "nbgrader": {
     "cell_type": "code",
     "checksum": "41d10eae9dbed1edfe561f467fe5ffd9",
     "grade": false,
     "grade_id": "cell-86a586d1f842910a",
     "locked": false,
     "schema_version": 3,
     "solution": true,
     "task": false
    }
   },
   "outputs": [
    {
     "name": "stdout",
     "output_type": "stream",
     "text": [
      "0.8987522281639929\n",
      "Pipeline(steps=[('OneHotEncoder',\n",
      "                 ColumnTransformer(remainder='passthrough',\n",
      "                                   transformers=[('OneHotEncoder',\n",
      "                                                  OneHotEncoder(drop='if_binary'),\n",
      "                                                  ['protocol_type', 'service',\n",
      "                                                   'flag'])])),\n",
      "                ('model',\n",
      "                 RandomForestClassifier(max_depth=10, max_features='auto',\n",
      "                                        n_estimators=10, random_state=77))])\n",
      "[[ 46   3]\n",
      " [  5 114]]\n",
      "0.9523809523809523\n",
      "[[11  1]\n",
      " [ 1 29]]\n",
      "0.9523809523809523\n",
      "Best score: 0.8988\n"
     ]
    },
    {
     "data": {
      "text/html": [
       "<style>#sk-container-id-1 {color: black;background-color: white;}#sk-container-id-1 pre{padding: 0;}#sk-container-id-1 div.sk-toggleable {background-color: white;}#sk-container-id-1 label.sk-toggleable__label {cursor: pointer;display: block;width: 100%;margin-bottom: 0;padding: 0.3em;box-sizing: border-box;text-align: center;}#sk-container-id-1 label.sk-toggleable__label-arrow:before {content: \"▸\";float: left;margin-right: 0.25em;color: #696969;}#sk-container-id-1 label.sk-toggleable__label-arrow:hover:before {color: black;}#sk-container-id-1 div.sk-estimator:hover label.sk-toggleable__label-arrow:before {color: black;}#sk-container-id-1 div.sk-toggleable__content {max-height: 0;max-width: 0;overflow: hidden;text-align: left;background-color: #f0f8ff;}#sk-container-id-1 div.sk-toggleable__content pre {margin: 0.2em;color: black;border-radius: 0.25em;background-color: #f0f8ff;}#sk-container-id-1 input.sk-toggleable__control:checked~div.sk-toggleable__content {max-height: 200px;max-width: 100%;overflow: auto;}#sk-container-id-1 input.sk-toggleable__control:checked~label.sk-toggleable__label-arrow:before {content: \"▾\";}#sk-container-id-1 div.sk-estimator input.sk-toggleable__control:checked~label.sk-toggleable__label {background-color: #d4ebff;}#sk-container-id-1 div.sk-label input.sk-toggleable__control:checked~label.sk-toggleable__label {background-color: #d4ebff;}#sk-container-id-1 input.sk-hidden--visually {border: 0;clip: rect(1px 1px 1px 1px);clip: rect(1px, 1px, 1px, 1px);height: 1px;margin: -1px;overflow: hidden;padding: 0;position: absolute;width: 1px;}#sk-container-id-1 div.sk-estimator {font-family: monospace;background-color: #f0f8ff;border: 1px dotted black;border-radius: 0.25em;box-sizing: border-box;margin-bottom: 0.5em;}#sk-container-id-1 div.sk-estimator:hover {background-color: #d4ebff;}#sk-container-id-1 div.sk-parallel-item::after {content: \"\";width: 100%;border-bottom: 1px solid gray;flex-grow: 1;}#sk-container-id-1 div.sk-label:hover label.sk-toggleable__label {background-color: #d4ebff;}#sk-container-id-1 div.sk-serial::before {content: \"\";position: absolute;border-left: 1px solid gray;box-sizing: border-box;top: 0;bottom: 0;left: 50%;z-index: 0;}#sk-container-id-1 div.sk-serial {display: flex;flex-direction: column;align-items: center;background-color: white;padding-right: 0.2em;padding-left: 0.2em;position: relative;}#sk-container-id-1 div.sk-item {position: relative;z-index: 1;}#sk-container-id-1 div.sk-parallel {display: flex;align-items: stretch;justify-content: center;background-color: white;position: relative;}#sk-container-id-1 div.sk-item::before, #sk-container-id-1 div.sk-parallel-item::before {content: \"\";position: absolute;border-left: 1px solid gray;box-sizing: border-box;top: 0;bottom: 0;left: 50%;z-index: -1;}#sk-container-id-1 div.sk-parallel-item {display: flex;flex-direction: column;z-index: 1;position: relative;background-color: white;}#sk-container-id-1 div.sk-parallel-item:first-child::after {align-self: flex-end;width: 50%;}#sk-container-id-1 div.sk-parallel-item:last-child::after {align-self: flex-start;width: 50%;}#sk-container-id-1 div.sk-parallel-item:only-child::after {width: 0;}#sk-container-id-1 div.sk-dashed-wrapped {border: 1px dashed gray;margin: 0 0.4em 0.5em 0.4em;box-sizing: border-box;padding-bottom: 0.4em;background-color: white;}#sk-container-id-1 div.sk-label label {font-family: monospace;font-weight: bold;display: inline-block;line-height: 1.2em;}#sk-container-id-1 div.sk-label-container {text-align: center;}#sk-container-id-1 div.sk-container {/* jupyter's `normalize.less` sets `[hidden] { display: none; }` but bootstrap.min.css set `[hidden] { display: none !important; }` so we also need the `!important` here to be able to override the default hidden behavior on the sphinx rendered scikit-learn.org. See: https://github.com/scikit-learn/scikit-learn/issues/21755 */display: inline-block !important;position: relative;}#sk-container-id-1 div.sk-text-repr-fallback {display: none;}</style><div id=\"sk-container-id-1\" class=\"sk-top-container\"><div class=\"sk-text-repr-fallback\"><pre>Pipeline(steps=[(&#x27;OneHotEncoder&#x27;,\n",
       "                 ColumnTransformer(remainder=&#x27;passthrough&#x27;,\n",
       "                                   transformers=[(&#x27;OneHotEncoder&#x27;,\n",
       "                                                  OneHotEncoder(drop=&#x27;if_binary&#x27;),\n",
       "                                                  [&#x27;protocol_type&#x27;, &#x27;service&#x27;,\n",
       "                                                   &#x27;flag&#x27;])])),\n",
       "                (&#x27;model&#x27;,\n",
       "                 RandomForestClassifier(max_depth=10, max_features=&#x27;auto&#x27;,\n",
       "                                        n_estimators=10, random_state=77))])</pre><b>In a Jupyter environment, please rerun this cell to show the HTML representation or trust the notebook. <br />On GitHub, the HTML representation is unable to render, please try loading this page with nbviewer.org.</b></div><div class=\"sk-container\" hidden><div class=\"sk-item sk-dashed-wrapped\"><div class=\"sk-label-container\"><div class=\"sk-label sk-toggleable\"><input class=\"sk-toggleable__control sk-hidden--visually\" id=\"sk-estimator-id-1\" type=\"checkbox\" ><label for=\"sk-estimator-id-1\" class=\"sk-toggleable__label sk-toggleable__label-arrow\">Pipeline</label><div class=\"sk-toggleable__content\"><pre>Pipeline(steps=[(&#x27;OneHotEncoder&#x27;,\n",
       "                 ColumnTransformer(remainder=&#x27;passthrough&#x27;,\n",
       "                                   transformers=[(&#x27;OneHotEncoder&#x27;,\n",
       "                                                  OneHotEncoder(drop=&#x27;if_binary&#x27;),\n",
       "                                                  [&#x27;protocol_type&#x27;, &#x27;service&#x27;,\n",
       "                                                   &#x27;flag&#x27;])])),\n",
       "                (&#x27;model&#x27;,\n",
       "                 RandomForestClassifier(max_depth=10, max_features=&#x27;auto&#x27;,\n",
       "                                        n_estimators=10, random_state=77))])</pre></div></div></div><div class=\"sk-serial\"><div class=\"sk-item sk-dashed-wrapped\"><div class=\"sk-label-container\"><div class=\"sk-label sk-toggleable\"><input class=\"sk-toggleable__control sk-hidden--visually\" id=\"sk-estimator-id-2\" type=\"checkbox\" ><label for=\"sk-estimator-id-2\" class=\"sk-toggleable__label sk-toggleable__label-arrow\">OneHotEncoder: ColumnTransformer</label><div class=\"sk-toggleable__content\"><pre>ColumnTransformer(remainder=&#x27;passthrough&#x27;,\n",
       "                  transformers=[(&#x27;OneHotEncoder&#x27;,\n",
       "                                 OneHotEncoder(drop=&#x27;if_binary&#x27;),\n",
       "                                 [&#x27;protocol_type&#x27;, &#x27;service&#x27;, &#x27;flag&#x27;])])</pre></div></div></div><div class=\"sk-parallel\"><div class=\"sk-parallel-item\"><div class=\"sk-item\"><div class=\"sk-label-container\"><div class=\"sk-label sk-toggleable\"><input class=\"sk-toggleable__control sk-hidden--visually\" id=\"sk-estimator-id-3\" type=\"checkbox\" ><label for=\"sk-estimator-id-3\" class=\"sk-toggleable__label sk-toggleable__label-arrow\">OneHotEncoder</label><div class=\"sk-toggleable__content\"><pre>[&#x27;protocol_type&#x27;, &#x27;service&#x27;, &#x27;flag&#x27;]</pre></div></div></div><div class=\"sk-serial\"><div class=\"sk-item\"><div class=\"sk-estimator sk-toggleable\"><input class=\"sk-toggleable__control sk-hidden--visually\" id=\"sk-estimator-id-4\" type=\"checkbox\" ><label for=\"sk-estimator-id-4\" class=\"sk-toggleable__label sk-toggleable__label-arrow\">OneHotEncoder</label><div class=\"sk-toggleable__content\"><pre>OneHotEncoder(drop=&#x27;if_binary&#x27;)</pre></div></div></div></div></div></div><div class=\"sk-parallel-item\"><div class=\"sk-item\"><div class=\"sk-label-container\"><div class=\"sk-label sk-toggleable\"><input class=\"sk-toggleable__control sk-hidden--visually\" id=\"sk-estimator-id-5\" type=\"checkbox\" ><label for=\"sk-estimator-id-5\" class=\"sk-toggleable__label sk-toggleable__label-arrow\">remainder</label><div class=\"sk-toggleable__content\"><pre>[&#x27;duration&#x27;, &#x27;count&#x27;, &#x27;srv_count&#x27;, &#x27;serror_rate&#x27;, &#x27;dst_host_srv_count&#x27;, &#x27;dst_host_srv_serror_rate&#x27;]</pre></div></div></div><div class=\"sk-serial\"><div class=\"sk-item\"><div class=\"sk-estimator sk-toggleable\"><input class=\"sk-toggleable__control sk-hidden--visually\" id=\"sk-estimator-id-6\" type=\"checkbox\" ><label for=\"sk-estimator-id-6\" class=\"sk-toggleable__label sk-toggleable__label-arrow\">passthrough</label><div class=\"sk-toggleable__content\"><pre>passthrough</pre></div></div></div></div></div></div></div></div><div class=\"sk-item\"><div class=\"sk-estimator sk-toggleable\"><input class=\"sk-toggleable__control sk-hidden--visually\" id=\"sk-estimator-id-7\" type=\"checkbox\" ><label for=\"sk-estimator-id-7\" class=\"sk-toggleable__label sk-toggleable__label-arrow\">RandomForestClassifier</label><div class=\"sk-toggleable__content\"><pre>RandomForestClassifier(max_depth=10, max_features=&#x27;auto&#x27;, n_estimators=10,\n",
       "                       random_state=77)</pre></div></div></div></div></div></div></div>"
      ],
      "text/plain": [
       "Pipeline(steps=[('OneHotEncoder',\n",
       "                 ColumnTransformer(remainder='passthrough',\n",
       "                                   transformers=[('OneHotEncoder',\n",
       "                                                  OneHotEncoder(drop='if_binary'),\n",
       "                                                  ['protocol_type', 'service',\n",
       "                                                   'flag'])])),\n",
       "                ('model',\n",
       "                 RandomForestClassifier(max_depth=10, max_features='auto',\n",
       "                                        n_estimators=10, random_state=77))])"
      ]
     },
     "execution_count": 21,
     "metadata": {},
     "output_type": "execute_result"
    }
   ],
   "source": [
    "acc_train = 0\n",
    "acc_test = 0\n",
    "\n",
    "cm_train = np.array([[0, 0],[0, 0]])\n",
    "cm_test = np.array([[0, 0],[0, 0]])\n",
    "\n",
    "# -------------------------- My CODE HERE\n",
    "X_train, X_test, y_train, y_test = train_test_split(X, y, test_size=0.2, random_state=seed, stratify= y ) #, stratify='stratified'\n",
    "\n",
    "param_grid = { \n",
    "    'model__n_estimators': [10, 20, 30],\n",
    "    'model__max_features': ['auto', 'sqrt', 'log2'],\n",
    "    'model__max_depth'   : [10, 20, 50, 70, 100],\n",
    "    'model__criterion'   : ['gini', 'entropy']\n",
    "}\n",
    "\n",
    "col_transformer = ColumnTransformer( [('OneHotEncoder',OneHotEncoder(drop='if_binary'), cat_cols)] , \n",
    "                                    remainder='passthrough' )\n",
    "mod         =  ('RFC', RandomForestClassifier(random_state=seed))\n",
    "pipeline       = Pipeline([('OneHotEncoder', col_transformer),  ('model', RandomForestClassifier(random_state=seed))])\n",
    "\n",
    "cv_technique =  KFold(n_splits=5, shuffle = True, random_state = seed  ) \n",
    "grid_model   = GridSearchCV(   pipeline,   param_grid, scoring= 'accuracy', cv = cv_technique)  \n",
    "\n",
    "# training\n",
    "grid_model.fit(X_train, y_train) \n",
    "\n",
    "\n",
    "print(grid_model.best_score_)\n",
    "print(grid_model.best_estimator_)\n",
    "\n",
    "\n",
    "# evaluating\n",
    "y_hat        =  grid_model.predict( X_test )\n",
    "cm_train     =  confusion_matrix( y_true = y_train,  y_pred = grid_model.predict( X_train))\n",
    "cm_test      =  confusion_matrix( y_true = y_test,   y_pred = y_hat)\n",
    "\n",
    "acc_train    =  grid_model.score(X_train, y_train)\n",
    "acc_test     =  grid_model.score(X_test, y_test)\n",
    "\n",
    "\n",
    "print(cm_train)\n",
    "print(acc_train)\n",
    "\n",
    "print(cm_test)\n",
    "print(acc_test)\n",
    "\n",
    "print(f'Best score: {grid_model.best_score_:.4f}')\n",
    "grid_model.best_estimator_"
   ]
  },
  {
   "cell_type": "markdown",
   "metadata": {
    "deletable": false,
    "editable": false,
    "nbgrader": {
     "cell_type": "markdown",
     "checksum": "ace5b22df741e465a87c09ffb49f88fe",
     "grade": false,
     "grade_id": "cell-44b0aa5277268091",
     "locked": true,
     "schema_version": 3,
     "solution": false,
     "task": false
    }
   },
   "source": [
    "Celda de control:"
   ]
  },
  {
   "cell_type": "code",
   "execution_count": 22,
   "metadata": {
    "deletable": false,
    "editable": false,
    "nbgrader": {
     "cell_type": "code",
     "checksum": "1efafc06afe79d13279f4a3808b8ec9f",
     "grade": true,
     "grade_id": "cell-c1df28aa144f6323",
     "locked": true,
     "points": 3,
     "schema_version": 3,
     "solution": false,
     "task": false
    }
   },
   "outputs": [],
   "source": [
    "assert grid_model.cv.random_state == seed\n",
    "assert np.round(acc_train, 4) == 0.9524\n",
    "assert np.round(acc_test, 4) == 0.9524\n",
    "assert (cm_train[0][0], cm_train[0][1], cm_train[1][0], cm_train[1][1]) == (46, 3, 5, 114)\n",
    "assert (cm_test[0][0], cm_test[0][1], cm_test[1][0], cm_test[1][1]) == (11, 1, 1, 29)\n",
    "assert len(grid_model.param_grid) == 4\n",
    "assert len(grid_model.estimator.named_steps) == 2"
   ]
  },
  {
   "cell_type": "code",
   "execution_count": null,
   "metadata": {},
   "outputs": [],
   "source": []
  }
 ],
 "metadata": {
  "kernelspec": {
   "display_name": "Python 3 (ipykernel)",
   "language": "python",
   "name": "python3"
  },
  "language_info": {
   "codemirror_mode": {
    "name": "ipython",
    "version": 3
   },
   "file_extension": ".py",
   "mimetype": "text/x-python",
   "name": "python",
   "nbconvert_exporter": "python",
   "pygments_lexer": "ipython3",
   "version": "3.11.4"
  }
 },
 "nbformat": 4,
 "nbformat_minor": 4
}
