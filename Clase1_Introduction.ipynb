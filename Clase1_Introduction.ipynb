{
 "cells": [
  {
   "cell_type": "code",
   "execution_count": 1,
   "id": "7ca78113",
   "metadata": {},
   "outputs": [],
   "source": [
    "#pip install matplotlib"
   ]
  },
  {
   "cell_type": "code",
   "execution_count": null,
   "id": "39594a71",
   "metadata": {},
   "outputs": [],
   "source": [
    "# Tema-1 -- Introduccion\n",
    "\n"
   ]
  },
  {
   "cell_type": "code",
   "execution_count": 8,
   "id": "a2b1ea42",
   "metadata": {},
   "outputs": [],
   "source": [
    "import pandas as pd\n",
    "import numpy as np\n",
    "import sklearn\n",
    "import matplotlib.pyplot as plt\n",
    "\n",
    "from sklearn.linear_model import LogisticRegression"
   ]
  },
  {
   "cell_type": "code",
   "execution_count": 3,
   "id": "aec6bf3a",
   "metadata": {},
   "outputs": [],
   "source": [
    "import warnings\n",
    "warnings.filterwarnings('ignore')"
   ]
  },
  {
   "cell_type": "code",
   "execution_count": 5,
   "id": "f15bfd2e",
   "metadata": {},
   "outputs": [],
   "source": [
    "from sklearn.datasets import load_digits\n",
    "digits = load_digits(as_frame = True)"
   ]
  },
  {
   "cell_type": "code",
   "execution_count": 15,
   "id": "f6d652ce",
   "metadata": {},
   "outputs": [],
   "source": [
    "from pickle import dump, load"
   ]
  },
  {
   "cell_type": "markdown",
   "id": "7fc1032b",
   "metadata": {},
   "source": [
    "# Modelo 1"
   ]
  },
  {
   "cell_type": "code",
   "execution_count": 3,
   "id": "468f30fa",
   "metadata": {},
   "outputs": [
    {
     "name": "stdout",
     "output_type": "stream",
     "text": [
      "(1797, 64)\n"
     ]
    }
   ],
   "source": [
    "print(digits.data.shape)"
   ]
  },
  {
   "cell_type": "code",
   "execution_count": 4,
   "id": "6a18f41b",
   "metadata": {
    "collapsed": true
   },
   "outputs": [
    {
     "data": {
      "text/plain": [
       "<Figure size 640x480 with 0 Axes>"
      ]
     },
     "metadata": {},
     "output_type": "display_data"
    },
    {
     "data": {
      "image/png": "[encoded data removed]",
      "text/plain": [
       "<Figure size 480x480 with 1 Axes>"
      ]
     },
     "metadata": {},
     "output_type": "display_data"
    }
   ],
   "source": [
    "# Plot one of the digits\n",
    "plt.gray()\n",
    "plt.matshow(digits.images[0])\n",
    "plt.show()"
   ]
  },
  {
   "cell_type": "code",
   "execution_count": 5,
   "id": "2cb18432",
   "metadata": {
    "collapsed": true
   },
   "outputs": [
    {
     "data": {
      "text/html": [
       "<div>\n",
       "<style scoped>\n",
       "    .dataframe tbody tr th:only-of-type {\n",
       "        vertical-align: middle;\n",
       "    }\n",
       "\n",
       "    .dataframe tbody tr th {\n",
       "        vertical-align: top;\n",
       "    }\n",
       "\n",
       "    .dataframe thead th {\n",
       "        text-align: right;\n",
       "    }\n",
       "</style>\n",
       "<table border=\"1\" class=\"dataframe\">\n",
       "  <thead>\n",
       "    <tr style=\"text-align: right;\">\n",
       "      <th></th>\n",
       "      <th>pixel_0_0</th>\n",
       "      <th>pixel_0_1</th>\n",
       "      <th>pixel_0_2</th>\n",
       "      <th>pixel_0_3</th>\n",
       "      <th>pixel_0_4</th>\n",
       "      <th>pixel_0_5</th>\n",
       "      <th>pixel_0_6</th>\n",
       "      <th>pixel_0_7</th>\n",
       "      <th>pixel_1_0</th>\n",
       "      <th>pixel_1_1</th>\n",
       "      <th>...</th>\n",
       "      <th>pixel_6_6</th>\n",
       "      <th>pixel_6_7</th>\n",
       "      <th>pixel_7_0</th>\n",
       "      <th>pixel_7_1</th>\n",
       "      <th>pixel_7_2</th>\n",
       "      <th>pixel_7_3</th>\n",
       "      <th>pixel_7_4</th>\n",
       "      <th>pixel_7_5</th>\n",
       "      <th>pixel_7_6</th>\n",
       "      <th>pixel_7_7</th>\n",
       "    </tr>\n",
       "  </thead>\n",
       "  <tbody>\n",
       "    <tr>\n",
       "      <th>0</th>\n",
       "      <td>0.0</td>\n",
       "      <td>0.0</td>\n",
       "      <td>5.0</td>\n",
       "      <td>13.0</td>\n",
       "      <td>9.0</td>\n",
       "      <td>1.0</td>\n",
       "      <td>0.0</td>\n",
       "      <td>0.0</td>\n",
       "      <td>0.0</td>\n",
       "      <td>0.0</td>\n",
       "      <td>...</td>\n",
       "      <td>0.0</td>\n",
       "      <td>0.0</td>\n",
       "      <td>0.0</td>\n",
       "      <td>0.0</td>\n",
       "      <td>6.0</td>\n",
       "      <td>13.0</td>\n",
       "      <td>10.0</td>\n",
       "      <td>0.0</td>\n",
       "      <td>0.0</td>\n",
       "      <td>0.0</td>\n",
       "    </tr>\n",
       "    <tr>\n",
       "      <th>1</th>\n",
       "      <td>0.0</td>\n",
       "      <td>0.0</td>\n",
       "      <td>0.0</td>\n",
       "      <td>12.0</td>\n",
       "      <td>13.0</td>\n",
       "      <td>5.0</td>\n",
       "      <td>0.0</td>\n",
       "      <td>0.0</td>\n",
       "      <td>0.0</td>\n",
       "      <td>0.0</td>\n",
       "      <td>...</td>\n",
       "      <td>0.0</td>\n",
       "      <td>0.0</td>\n",
       "      <td>0.0</td>\n",
       "      <td>0.0</td>\n",
       "      <td>0.0</td>\n",
       "      <td>11.0</td>\n",
       "      <td>16.0</td>\n",
       "      <td>10.0</td>\n",
       "      <td>0.0</td>\n",
       "      <td>0.0</td>\n",
       "    </tr>\n",
       "    <tr>\n",
       "      <th>2</th>\n",
       "      <td>0.0</td>\n",
       "      <td>0.0</td>\n",
       "      <td>0.0</td>\n",
       "      <td>4.0</td>\n",
       "      <td>15.0</td>\n",
       "      <td>12.0</td>\n",
       "      <td>0.0</td>\n",
       "      <td>0.0</td>\n",
       "      <td>0.0</td>\n",
       "      <td>0.0</td>\n",
       "      <td>...</td>\n",
       "      <td>5.0</td>\n",
       "      <td>0.0</td>\n",
       "      <td>0.0</td>\n",
       "      <td>0.0</td>\n",
       "      <td>0.0</td>\n",
       "      <td>3.0</td>\n",
       "      <td>11.0</td>\n",
       "      <td>16.0</td>\n",
       "      <td>9.0</td>\n",
       "      <td>0.0</td>\n",
       "    </tr>\n",
       "    <tr>\n",
       "      <th>3</th>\n",
       "      <td>0.0</td>\n",
       "      <td>0.0</td>\n",
       "      <td>7.0</td>\n",
       "      <td>15.0</td>\n",
       "      <td>13.0</td>\n",
       "      <td>1.0</td>\n",
       "      <td>0.0</td>\n",
       "      <td>0.0</td>\n",
       "      <td>0.0</td>\n",
       "      <td>8.0</td>\n",
       "      <td>...</td>\n",
       "      <td>9.0</td>\n",
       "      <td>0.0</td>\n",
       "      <td>0.0</td>\n",
       "      <td>0.0</td>\n",
       "      <td>7.0</td>\n",
       "      <td>13.0</td>\n",
       "      <td>13.0</td>\n",
       "      <td>9.0</td>\n",
       "      <td>0.0</td>\n",
       "      <td>0.0</td>\n",
       "    </tr>\n",
       "    <tr>\n",
       "      <th>4</th>\n",
       "      <td>0.0</td>\n",
       "      <td>0.0</td>\n",
       "      <td>0.0</td>\n",
       "      <td>1.0</td>\n",
       "      <td>11.0</td>\n",
       "      <td>0.0</td>\n",
       "      <td>0.0</td>\n",
       "      <td>0.0</td>\n",
       "      <td>0.0</td>\n",
       "      <td>0.0</td>\n",
       "      <td>...</td>\n",
       "      <td>0.0</td>\n",
       "      <td>0.0</td>\n",
       "      <td>0.0</td>\n",
       "      <td>0.0</td>\n",
       "      <td>0.0</td>\n",
       "      <td>2.0</td>\n",
       "      <td>16.0</td>\n",
       "      <td>4.0</td>\n",
       "      <td>0.0</td>\n",
       "      <td>0.0</td>\n",
       "    </tr>\n",
       "    <tr>\n",
       "      <th>...</th>\n",
       "      <td>...</td>\n",
       "      <td>...</td>\n",
       "      <td>...</td>\n",
       "      <td>...</td>\n",
       "      <td>...</td>\n",
       "      <td>...</td>\n",
       "      <td>...</td>\n",
       "      <td>...</td>\n",
       "      <td>...</td>\n",
       "      <td>...</td>\n",
       "      <td>...</td>\n",
       "      <td>...</td>\n",
       "      <td>...</td>\n",
       "      <td>...</td>\n",
       "      <td>...</td>\n",
       "      <td>...</td>\n",
       "      <td>...</td>\n",
       "      <td>...</td>\n",
       "      <td>...</td>\n",
       "      <td>...</td>\n",
       "      <td>...</td>\n",
       "    </tr>\n",
       "    <tr>\n",
       "      <th>1792</th>\n",
       "      <td>0.0</td>\n",
       "      <td>0.0</td>\n",
       "      <td>4.0</td>\n",
       "      <td>10.0</td>\n",
       "      <td>13.0</td>\n",
       "      <td>6.0</td>\n",
       "      <td>0.0</td>\n",
       "      <td>0.0</td>\n",
       "      <td>0.0</td>\n",
       "      <td>1.0</td>\n",
       "      <td>...</td>\n",
       "      <td>4.0</td>\n",
       "      <td>0.0</td>\n",
       "      <td>0.0</td>\n",
       "      <td>0.0</td>\n",
       "      <td>2.0</td>\n",
       "      <td>14.0</td>\n",
       "      <td>15.0</td>\n",
       "      <td>9.0</td>\n",
       "      <td>0.0</td>\n",
       "      <td>0.0</td>\n",
       "    </tr>\n",
       "    <tr>\n",
       "      <th>1793</th>\n",
       "      <td>0.0</td>\n",
       "      <td>0.0</td>\n",
       "      <td>6.0</td>\n",
       "      <td>16.0</td>\n",
       "      <td>13.0</td>\n",
       "      <td>11.0</td>\n",
       "      <td>1.0</td>\n",
       "      <td>0.0</td>\n",
       "      <td>0.0</td>\n",
       "      <td>0.0</td>\n",
       "      <td>...</td>\n",
       "      <td>1.0</td>\n",
       "      <td>0.0</td>\n",
       "      <td>0.0</td>\n",
       "      <td>0.0</td>\n",
       "      <td>6.0</td>\n",
       "      <td>16.0</td>\n",
       "      <td>14.0</td>\n",
       "      <td>6.0</td>\n",
       "      <td>0.0</td>\n",
       "      <td>0.0</td>\n",
       "    </tr>\n",
       "    <tr>\n",
       "      <th>1794</th>\n",
       "      <td>0.0</td>\n",
       "      <td>0.0</td>\n",
       "      <td>1.0</td>\n",
       "      <td>11.0</td>\n",
       "      <td>15.0</td>\n",
       "      <td>1.0</td>\n",
       "      <td>0.0</td>\n",
       "      <td>0.0</td>\n",
       "      <td>0.0</td>\n",
       "      <td>0.0</td>\n",
       "      <td>...</td>\n",
       "      <td>0.0</td>\n",
       "      <td>0.0</td>\n",
       "      <td>0.0</td>\n",
       "      <td>0.0</td>\n",
       "      <td>2.0</td>\n",
       "      <td>9.0</td>\n",
       "      <td>13.0</td>\n",
       "      <td>6.0</td>\n",
       "      <td>0.0</td>\n",
       "      <td>0.0</td>\n",
       "    </tr>\n",
       "    <tr>\n",
       "      <th>1795</th>\n",
       "      <td>0.0</td>\n",
       "      <td>0.0</td>\n",
       "      <td>2.0</td>\n",
       "      <td>10.0</td>\n",
       "      <td>7.0</td>\n",
       "      <td>0.0</td>\n",
       "      <td>0.0</td>\n",
       "      <td>0.0</td>\n",
       "      <td>0.0</td>\n",
       "      <td>0.0</td>\n",
       "      <td>...</td>\n",
       "      <td>2.0</td>\n",
       "      <td>0.0</td>\n",
       "      <td>0.0</td>\n",
       "      <td>0.0</td>\n",
       "      <td>5.0</td>\n",
       "      <td>12.0</td>\n",
       "      <td>16.0</td>\n",
       "      <td>12.0</td>\n",
       "      <td>0.0</td>\n",
       "      <td>0.0</td>\n",
       "    </tr>\n",
       "    <tr>\n",
       "      <th>1796</th>\n",
       "      <td>0.0</td>\n",
       "      <td>0.0</td>\n",
       "      <td>10.0</td>\n",
       "      <td>14.0</td>\n",
       "      <td>8.0</td>\n",
       "      <td>1.0</td>\n",
       "      <td>0.0</td>\n",
       "      <td>0.0</td>\n",
       "      <td>0.0</td>\n",
       "      <td>2.0</td>\n",
       "      <td>...</td>\n",
       "      <td>8.0</td>\n",
       "      <td>0.0</td>\n",
       "      <td>0.0</td>\n",
       "      <td>1.0</td>\n",
       "      <td>8.0</td>\n",
       "      <td>12.0</td>\n",
       "      <td>14.0</td>\n",
       "      <td>12.0</td>\n",
       "      <td>1.0</td>\n",
       "      <td>0.0</td>\n",
       "    </tr>\n",
       "  </tbody>\n",
       "</table>\n",
       "<p>1797 rows × 64 columns</p>\n",
       "</div>"
      ],
      "text/plain": [
       "      pixel_0_0  pixel_0_1  pixel_0_2  pixel_0_3  pixel_0_4  pixel_0_5  \\\n",
       "0           0.0        0.0        5.0       13.0        9.0        1.0   \n",
       "1           0.0        0.0        0.0       12.0       13.0        5.0   \n",
       "2           0.0        0.0        0.0        4.0       15.0       12.0   \n",
       "3           0.0        0.0        7.0       15.0       13.0        1.0   \n",
       "4           0.0        0.0        0.0        1.0       11.0        0.0   \n",
       "...         ...        ...        ...        ...        ...        ...   \n",
       "1792        0.0        0.0        4.0       10.0       13.0        6.0   \n",
       "1793        0.0        0.0        6.0       16.0       13.0       11.0   \n",
       "1794        0.0        0.0        1.0       11.0       15.0        1.0   \n",
       "1795        0.0        0.0        2.0       10.0        7.0        0.0   \n",
       "1796        0.0        0.0       10.0       14.0        8.0        1.0   \n",
       "\n",
       "      pixel_0_6  pixel_0_7  pixel_1_0  pixel_1_1  ...  pixel_6_6  pixel_6_7  \\\n",
       "0           0.0        0.0        0.0        0.0  ...        0.0        0.0   \n",
       "1           0.0        0.0        0.0        0.0  ...        0.0        0.0   \n",
       "2           0.0        0.0        0.0        0.0  ...        5.0        0.0   \n",
       "3           0.0        0.0        0.0        8.0  ...        9.0        0.0   \n",
       "4           0.0        0.0        0.0        0.0  ...        0.0        0.0   \n",
       "...         ...        ...        ...        ...  ...        ...        ...   \n",
       "1792        0.0        0.0        0.0        1.0  ...        4.0        0.0   \n",
       "1793        1.0        0.0        0.0        0.0  ...        1.0        0.0   \n",
       "1794        0.0        0.0        0.0        0.0  ...        0.0        0.0   \n",
       "1795        0.0        0.0        0.0        0.0  ...        2.0        0.0   \n",
       "1796        0.0        0.0        0.0        2.0  ...        8.0        0.0   \n",
       "\n",
       "      pixel_7_0  pixel_7_1  pixel_7_2  pixel_7_3  pixel_7_4  pixel_7_5  \\\n",
       "0           0.0        0.0        6.0       13.0       10.0        0.0   \n",
       "1           0.0        0.0        0.0       11.0       16.0       10.0   \n",
       "2           0.0        0.0        0.0        3.0       11.0       16.0   \n",
       "3           0.0        0.0        7.0       13.0       13.0        9.0   \n",
       "4           0.0        0.0        0.0        2.0       16.0        4.0   \n",
       "...         ...        ...        ...        ...        ...        ...   \n",
       "1792        0.0        0.0        2.0       14.0       15.0        9.0   \n",
       "1793        0.0        0.0        6.0       16.0       14.0        6.0   \n",
       "1794        0.0        0.0        2.0        9.0       13.0        6.0   \n",
       "1795        0.0        0.0        5.0       12.0       16.0       12.0   \n",
       "1796        0.0        1.0        8.0       12.0       14.0       12.0   \n",
       "\n",
       "      pixel_7_6  pixel_7_7  \n",
       "0           0.0        0.0  \n",
       "1           0.0        0.0  \n",
       "2           9.0        0.0  \n",
       "3           0.0        0.0  \n",
       "4           0.0        0.0  \n",
       "...         ...        ...  \n",
       "1792        0.0        0.0  \n",
       "1793        0.0        0.0  \n",
       "1794        0.0        0.0  \n",
       "1795        0.0        0.0  \n",
       "1796        1.0        0.0  \n",
       "\n",
       "[1797 rows x 64 columns]"
      ]
     },
     "execution_count": 5,
     "metadata": {},
     "output_type": "execute_result"
    }
   ],
   "source": [
    "digits.data"
   ]
  },
  {
   "cell_type": "code",
   "execution_count": 6,
   "id": "b86c3f9d",
   "metadata": {},
   "outputs": [],
   "source": [
    "features = digits.data\n",
    "target = digits.target"
   ]
  },
  {
   "cell_type": "markdown",
   "id": "b24bc969",
   "metadata": {},
   "source": [
    "## Fit a model\n"
   ]
  },
  {
   "cell_type": "code",
   "execution_count": 9,
   "id": "1f6c8d83",
   "metadata": {},
   "outputs": [],
   "source": [
    "\n",
    "\n",
    "model = LogisticRegression()"
   ]
  },
  {
   "cell_type": "code",
   "execution_count": 13,
   "id": "9dd634f7",
   "metadata": {},
   "outputs": [
    {
     "data": {
      "text/html": [
       "<style>#sk-container-id-2 {color: black;background-color: white;}#sk-container-id-2 pre{padding: 0;}#sk-container-id-2 div.sk-toggleable {background-color: white;}#sk-container-id-2 label.sk-toggleable__label {cursor: pointer;display: block;width: 100%;margin-bottom: 0;padding: 0.3em;box-sizing: border-box;text-align: center;}#sk-container-id-2 label.sk-toggleable__label-arrow:before {content: \"▸\";float: left;margin-right: 0.25em;color: #696969;}#sk-container-id-2 label.sk-toggleable__label-arrow:hover:before {color: black;}#sk-container-id-2 div.sk-estimator:hover label.sk-toggleable__label-arrow:before {color: black;}#sk-container-id-2 div.sk-toggleable__content {max-height: 0;max-width: 0;overflow: hidden;text-align: left;background-color: #f0f8ff;}#sk-container-id-2 div.sk-toggleable__content pre {margin: 0.2em;color: black;border-radius: 0.25em;background-color: #f0f8ff;}#sk-container-id-2 input.sk-toggleable__control:checked~div.sk-toggleable__content {max-height: 200px;max-width: 100%;overflow: auto;}#sk-container-id-2 input.sk-toggleable__control:checked~label.sk-toggleable__label-arrow:before {content: \"▾\";}#sk-container-id-2 div.sk-estimator input.sk-toggleable__control:checked~label.sk-toggleable__label {background-color: #d4ebff;}#sk-container-id-2 div.sk-label input.sk-toggleable__control:checked~label.sk-toggleable__label {background-color: #d4ebff;}#sk-container-id-2 input.sk-hidden--visually {border: 0;clip: rect(1px 1px 1px 1px);clip: rect(1px, 1px, 1px, 1px);height: 1px;margin: -1px;overflow: hidden;padding: 0;position: absolute;width: 1px;}#sk-container-id-2 div.sk-estimator {font-family: monospace;background-color: #f0f8ff;border: 1px dotted black;border-radius: 0.25em;box-sizing: border-box;margin-bottom: 0.5em;}#sk-container-id-2 div.sk-estimator:hover {background-color: #d4ebff;}#sk-container-id-2 div.sk-parallel-item::after {content: \"\";width: 100%;border-bottom: 1px solid gray;flex-grow: 1;}#sk-container-id-2 div.sk-label:hover label.sk-toggleable__label {background-color: #d4ebff;}#sk-container-id-2 div.sk-serial::before {content: \"\";position: absolute;border-left: 1px solid gray;box-sizing: border-box;top: 0;bottom: 0;left: 50%;z-index: 0;}#sk-container-id-2 div.sk-serial {display: flex;flex-direction: column;align-items: center;background-color: white;padding-right: 0.2em;padding-left: 0.2em;position: relative;}#sk-container-id-2 div.sk-item {position: relative;z-index: 1;}#sk-container-id-2 div.sk-parallel {display: flex;align-items: stretch;justify-content: center;background-color: white;position: relative;}#sk-container-id-2 div.sk-item::before, #sk-container-id-2 div.sk-parallel-item::before {content: \"\";position: absolute;border-left: 1px solid gray;box-sizing: border-box;top: 0;bottom: 0;left: 50%;z-index: -1;}#sk-container-id-2 div.sk-parallel-item {display: flex;flex-direction: column;z-index: 1;position: relative;background-color: white;}#sk-container-id-2 div.sk-parallel-item:first-child::after {align-self: flex-end;width: 50%;}#sk-container-id-2 div.sk-parallel-item:last-child::after {align-self: flex-start;width: 50%;}#sk-container-id-2 div.sk-parallel-item:only-child::after {width: 0;}#sk-container-id-2 div.sk-dashed-wrapped {border: 1px dashed gray;margin: 0 0.4em 0.5em 0.4em;box-sizing: border-box;padding-bottom: 0.4em;background-color: white;}#sk-container-id-2 div.sk-label label {font-family: monospace;font-weight: bold;display: inline-block;line-height: 1.2em;}#sk-container-id-2 div.sk-label-container {text-align: center;}#sk-container-id-2 div.sk-container {/* jupyter's `normalize.less` sets `[hidden] { display: none; }` but bootstrap.min.css set `[hidden] { display: none !important; }` so we also need the `!important` here to be able to override the default hidden behavior on the sphinx rendered scikit-learn.org. See: https://github.com/scikit-learn/scikit-learn/issues/21755 */display: inline-block !important;position: relative;}#sk-container-id-2 div.sk-text-repr-fallback {display: none;}</style><div id=\"sk-container-id-2\" class=\"sk-top-container\"><div class=\"sk-text-repr-fallback\"><pre>LogisticRegression()</pre><b>In a Jupyter environment, please rerun this cell to show the HTML representation or trust the notebook. <br />On GitHub, the HTML representation is unable to render, please try loading this page with nbviewer.org.</b></div><div class=\"sk-container\" hidden><div class=\"sk-item\"><div class=\"sk-estimator sk-toggleable\"><input class=\"sk-toggleable__control sk-hidden--visually\" id=\"sk-estimator-id-2\" type=\"checkbox\" checked><label for=\"sk-estimator-id-2\" class=\"sk-toggleable__label sk-toggleable__label-arrow\">LogisticRegression</label><div class=\"sk-toggleable__content\"><pre>LogisticRegression()</pre></div></div></div></div></div>"
      ],
      "text/plain": [
       "LogisticRegression()"
      ]
     },
     "execution_count": 13,
     "metadata": {},
     "output_type": "execute_result"
    }
   ],
   "source": [
    "model.fit(features, target)"
   ]
  },
  {
   "cell_type": "code",
   "execution_count": 14,
   "id": "cf9d6f31",
   "metadata": {},
   "outputs": [
    {
     "data": {
      "text/plain": [
       "array([[ 0.00000000e+00, -5.69626634e-03, -4.15125209e-02,\n",
       "         9.54269810e-02,  1.02697128e-02, -1.01602902e-01,\n",
       "        -1.21648621e-01, -1.17973364e-02, -1.56883319e-04,\n",
       "        -5.61342224e-02,  3.05327957e-02,  1.51882551e-01,\n",
       "         8.85809377e-02,  1.31851776e-01, -5.16373824e-02,\n",
       "        -1.18341786e-02, -1.70964999e-04,  4.09584581e-02,\n",
       "         2.02343848e-01, -3.76808241e-02, -3.59541291e-01,\n",
       "         1.98584857e-01,  8.60640556e-02, -4.08411187e-03,\n",
       "        -7.76427406e-05,  1.52968339e-01,  1.28515906e-01,\n",
       "        -2.44438869e-01, -5.49089858e-01,  2.92065949e-02,\n",
       "         9.66224579e-02, -2.78441443e-04,  0.00000000e+00,\n",
       "         1.87068172e-01,  1.22865496e-01, -2.54905022e-01,\n",
       "        -4.80411653e-01,  4.01449636e-02,  6.84340792e-02,\n",
       "         0.00000000e+00, -6.83227768e-04, -2.50820378e-02,\n",
       "         3.00910015e-01, -1.76978550e-01, -1.58511985e-01,\n",
       "         1.13353964e-01,  3.54819075e-02, -7.69270521e-04,\n",
       "        -1.94170113e-03, -1.00031967e-01,  1.25180411e-01,\n",
       "        -2.60623366e-02,  1.46577225e-01,  7.41504828e-02,\n",
       "        -4.95264060e-02, -9.75411917e-03, -1.67704050e-05,\n",
       "        -9.25639677e-03, -8.24495203e-02,  1.95517909e-01,\n",
       "        -2.45514880e-02, -8.25007286e-02, -4.92833227e-02,\n",
       "        -1.60821262e-02],\n",
       "       [ 0.00000000e+00, -1.06970248e-02, -1.29749499e-01,\n",
       "         1.69901746e-01, -7.83973821e-01,  4.02038982e-01,\n",
       "         5.71986061e-02, -1.09062448e-02, -1.32544569e-03,\n",
       "        -3.75935886e-01, -3.71264046e-01, -4.32189061e-01,\n",
       "         2.82126637e-01, -1.04873502e-01, -3.03366283e-01,\n",
       "        -1.08460210e-02,  7.68121027e-02,  3.41687532e-01,\n",
       "        -3.98077980e-02,  7.21677682e-01,  1.82781282e-01,\n",
       "        -1.24438815e-01, -6.73942123e-02, -2.84463427e-03,\n",
       "         1.91193266e-02, -1.28721919e-01, -4.17271722e-02,\n",
       "         6.50029198e-02,  2.36308675e-01,  6.62734476e-02,\n",
       "         1.75330049e-02, -8.17743725e-05,  0.00000000e+00,\n",
       "        -3.18533894e-02,  1.76217041e-01, -1.52383671e-01,\n",
       "         2.00411515e-01,  1.74177331e-01, -2.18603248e-01,\n",
       "         0.00000000e+00, -2.62681837e-04, -1.44866733e-01,\n",
       "         4.02919263e-02,  3.37824493e-01, -1.36079741e-02,\n",
       "        -1.25988474e-01, -4.66678463e-01, -2.20890941e-03,\n",
       "        -1.33213925e-03, -1.39206595e-01, -8.58803751e-02,\n",
       "         1.15664202e-01,  2.45103834e-01, -8.78718588e-02,\n",
       "        -1.74664709e-01,  2.03821054e-01, -3.85877489e-04,\n",
       "         1.55916398e-02, -2.58279846e-01,  4.76677884e-02,\n",
       "         1.33598702e-01,  1.22741134e-01,  1.31382155e-01,\n",
       "         2.43337684e-01],\n",
       "       [ 0.00000000e+00,  3.09836539e-02,  1.09932305e-02,\n",
       "         6.63391635e-02,  9.21237823e-02, -5.13470406e-02,\n",
       "        -1.79223547e-02, -3.94854439e-03, -1.13669512e-02,\n",
       "         2.30173925e-01,  3.69772779e-02, -1.74393185e-01,\n",
       "         3.02676052e-01, -1.92099612e-02,  3.34272629e-02,\n",
       "        -4.23219281e-03, -5.46025389e-03, -5.71412115e-02,\n",
       "        -1.36018278e-01, -2.88969338e-01,  2.73623856e-01,\n",
       "        -8.16847247e-02,  1.60011351e-01, -1.40636317e-03,\n",
       "        -4.91209840e-05, -2.23359213e-01, -5.84335060e-01,\n",
       "        -3.81251255e-01, -2.22590743e-01,  8.85403284e-03,\n",
       "         2.66491675e-02, -6.21585462e-05,  0.00000000e+00,\n",
       "        -1.49483746e-01, -3.93285666e-01, -1.41487543e-01,\n",
       "         9.06777885e-03, -2.31794693e-01, -2.49846764e-01,\n",
       "         0.00000000e+00, -2.48592572e-04,  8.56912178e-02,\n",
       "         7.56765094e-02,  4.56982828e-01, -3.29060514e-01,\n",
       "        -3.65834718e-01, -7.15212700e-02,  2.38797981e-03,\n",
       "         3.01659089e-03,  7.76192529e-02,  1.01382939e-01,\n",
       "         5.42641428e-01,  3.47922614e-01,  2.59041565e-01,\n",
       "         1.72099183e-01,  2.39802660e-02,  1.05744081e-03,\n",
       "         3.21061702e-02,  2.00548084e-01,  6.25028362e-02,\n",
       "         4.11725695e-02,  2.67167551e-01,  4.53545953e-01,\n",
       "         1.46816244e-01],\n",
       "       [ 0.00000000e+00,  1.30911314e-01, -1.46722973e-01,\n",
       "         5.26197517e-02,  5.12747490e-01,  3.42616975e-02,\n",
       "         1.14101387e-02, -1.81916805e-03, -3.29691501e-03,\n",
       "         1.29496507e-01,  1.68180458e-01,  6.99888529e-02,\n",
       "         1.98905597e-01,  2.26364626e-01,  2.86139304e-01,\n",
       "        -2.30900115e-02, -9.97330752e-04, -1.60224886e-01,\n",
       "        -3.58573009e-01, -4.88091010e-01,  5.96555065e-02,\n",
       "        -2.37634923e-01, -6.15825452e-03, -1.45053552e-03,\n",
       "        -3.10911279e-05, -1.52368260e-01, -3.81873783e-01,\n",
       "        -1.28906116e-01,  3.24591794e-01, -4.48693931e-01,\n",
       "        -3.74357515e-01, -6.21526065e-05,  0.00000000e+00,\n",
       "        -1.44521182e-01, -9.08584805e-02,  5.75825596e-02,\n",
       "         1.05501026e-01, -1.49331615e-01,  4.58709183e-04,\n",
       "         0.00000000e+00, -2.48551201e-04, -3.21534976e-02,\n",
       "        -3.86646994e-01, -5.03812193e-01,  1.05624653e-01,\n",
       "         1.94477861e-01,  2.67782071e-01, -3.35920027e-03,\n",
       "        -2.08994764e-04, -8.59965052e-02,  5.29760283e-02,\n",
       "        -2.15963385e-01,  6.04346078e-02,  2.90766096e-01,\n",
       "         4.09631603e-01, -7.06347423e-02, -1.78655625e-05,\n",
       "         9.49181753e-02,  2.30348255e-01,  1.45632520e-01,\n",
       "        -2.66788426e-02,  2.50956506e-02,  8.06413518e-02,\n",
       "        -1.82693570e-01],\n",
       "       [ 0.00000000e+00, -1.93315076e-02, -1.46705337e-01,\n",
       "        -4.22273800e-01, -2.39853655e-01, -3.86247314e-01,\n",
       "        -2.72952762e-01,  4.63358855e-02, -1.65745157e-04,\n",
       "         8.77569847e-02, -2.15310702e-01, -2.11736318e-01,\n",
       "        -4.73880914e-01, -1.63808043e-01, -1.94591774e-01,\n",
       "         3.05474156e-02, -1.49106789e-03,  2.63823235e-01,\n",
       "         1.93968358e-01,  1.41198453e-01,  3.63952321e-02,\n",
       "         6.06988358e-02, -5.83879826e-02,  2.71463673e-02,\n",
       "         1.89109731e-02,  6.02475269e-02,  4.35731018e-01,\n",
       "         1.76895350e-01,  9.87643679e-02,  9.22199808e-02,\n",
       "         4.76203268e-01,  2.79397321e-03,  0.00000000e+00,\n",
       "         1.30407242e-01,  2.11456533e-01, -1.15154515e-01,\n",
       "         3.13138980e-01,  2.58339970e-01,  4.92489767e-01,\n",
       "         0.00000000e+00,  3.14342338e-03,  5.49298059e-01,\n",
       "         2.07711484e-02,  6.98088416e-01,  4.35313622e-01,\n",
       "         1.36174092e-01,  1.45535364e-01, -8.53675196e-04,\n",
       "         4.39108526e-03,  2.57139906e-01, -2.75327608e-01,\n",
       "         1.04334853e-01,  2.14823970e-02, -3.10986643e-01,\n",
       "        -2.54256255e-01, -9.32602850e-03, -1.98655753e-05,\n",
       "        -7.23824756e-02, -1.06868310e-01, -2.82720529e-01,\n",
       "        -1.79034820e-01, -1.78052253e-01, -8.47017487e-02,\n",
       "        -1.04799976e-02],\n",
       "       [ 0.00000000e+00,  9.45767559e-02,  5.82719679e-01,\n",
       "        -1.45742175e-01,  8.86361776e-02,  4.49139403e-01,\n",
       "         3.42257735e-01, -3.20843263e-02, -2.30121418e-04,\n",
       "        -6.28404430e-02,  1.76667202e-01,  2.61900486e-01,\n",
       "        -3.85274584e-02, -7.73067137e-02, -7.33918115e-02,\n",
       "         2.68721840e-03, -2.84975384e-03, -7.41496811e-02,\n",
       "         6.21483960e-02,  9.52736918e-02, -5.70595391e-01,\n",
       "        -4.07936341e-01, -4.80177678e-01, -6.78435044e-03,\n",
       "        -1.38743135e-03,  1.18993836e-01,  3.39490172e-01,\n",
       "        -7.95671648e-02,  3.43525084e-01, -1.73814881e-01,\n",
       "        -2.65305066e-01, -7.14627043e-05,  0.00000000e+00,\n",
       "         9.83121166e-03,  5.14475582e-02, -2.75873071e-01,\n",
       "        -2.58927777e-01, -3.67924322e-02,  2.69141514e-01,\n",
       "         0.00000000e+00, -2.48849406e-04, -2.82336127e-01,\n",
       "        -2.50439522e-01, -3.14875439e-01, -2.50465513e-02,\n",
       "         1.64196013e-01,  1.67267644e-03, -8.35581119e-04,\n",
       "        -2.03719914e-04, -1.42319237e-01, -1.05315208e-01,\n",
       "        -1.78866210e-01, -9.38261340e-02,  3.75153322e-02,\n",
       "        -3.08122181e-01, -7.16200029e-03, -1.59430119e-05,\n",
       "         6.70098735e-02,  4.75400823e-01,  2.69545620e-01,\n",
       "        -2.06432110e-02,  1.06442443e-01, -3.81991535e-01,\n",
       "        -1.78514615e-02],\n",
       "       [ 0.00000000e+00, -1.24957453e-02, -2.15338543e-01,\n",
       "        -1.28903616e-01, -9.53593623e-02, -2.06920528e-01,\n",
       "        -6.70276686e-02, -3.65728068e-03, -1.89422552e-04,\n",
       "        -1.52271337e-01, -1.73970666e-01, -8.09660366e-03,\n",
       "        -3.71237413e-01, -6.43616106e-03,  1.79543638e-02,\n",
       "        -3.13399920e-03, -4.31107311e-03, -5.45321169e-02,\n",
       "         1.99595405e-01,  4.52178033e-02, -2.73800552e-01,\n",
       "        -3.59394095e-01, -1.01302772e-01, -1.65299482e-03,\n",
       "        -2.14309671e-03,  1.92666337e-01,  8.39692141e-02,\n",
       "         1.85187404e-01, -9.58584337e-02, -2.29547751e-02,\n",
       "        -2.16568364e-01, -2.20973646e-04,  0.00000000e+00,\n",
       "         2.21768516e-01,  1.55991638e-01,  3.09168344e-01,\n",
       "        -1.72992028e-02, -8.60645712e-02,  1.24502153e-01,\n",
       "         0.00000000e+00, -7.01899621e-04, -8.98640904e-02,\n",
       "         5.42246993e-01,  1.25525682e-01,  1.72004753e-01,\n",
       "         7.46358442e-02,  2.75402309e-01,  7.71945936e-03,\n",
       "        -1.47133595e-03, -1.08942784e-01,  1.56693128e-01,\n",
       "         7.75728760e-03, -5.23283072e-02,  2.59646740e-01,\n",
       "         1.42839570e-01, -1.35384337e-01, -1.59757435e-05,\n",
       "        -1.25520797e-02, -2.16794516e-01, -1.76079059e-01,\n",
       "         8.77346390e-03,  1.18854100e-01,  1.74543714e-02,\n",
       "        -8.76568447e-02],\n",
       "       [ 0.00000000e+00,  1.89616039e-02,  1.15791102e-01,\n",
       "         1.33532430e-01,  1.56979897e-01,  7.56504429e-02,\n",
       "         2.03155493e-01,  9.50077936e-02, -1.57027560e-04,\n",
       "         9.80834355e-02,  1.66147642e-01,  1.49568451e-01,\n",
       "         4.92755601e-01, -1.54027959e-01, -4.53410099e-02,\n",
       "         6.78367857e-02, -7.91307140e-05, -2.54280857e-01,\n",
       "        -3.24515606e-01, -1.27359324e-01,  1.49104196e-01,\n",
       "         2.04420262e-01,  1.90929371e-01,  1.16866039e-02,\n",
       "        -3.39388729e-05, -1.58269642e-01, -2.74933691e-02,\n",
       "        -3.58251568e-01,  2.70217643e-02,  2.53279858e-01,\n",
       "         2.72249396e-01, -1.51121944e-03,  0.00000000e+00,\n",
       "         1.77112850e-01,  8.84050701e-04, -6.08917141e-02,\n",
       "         1.34559027e-01,  3.02278278e-01,  2.46447319e-01,\n",
       "         0.00000000e+00, -2.48627976e-04, -2.70950952e-03,\n",
       "        -5.45977136e-02,  1.20386869e-01,  1.39020580e-01,\n",
       "        -5.51885235e-02, -2.97997258e-02, -7.63837780e-04,\n",
       "        -2.33317958e-04, -5.26993710e-02, -8.38086062e-02,\n",
       "         1.30796798e-01, -2.00937071e-01, -4.53884932e-01,\n",
       "        -1.39144761e-01, -5.86769350e-03, -2.53408632e-05,\n",
       "        -5.09095649e-03,  4.84539012e-02, -3.05837377e-01,\n",
       "        -2.82492045e-01, -3.83807118e-01, -1.09749470e-01,\n",
       "        -1.07969861e-02],\n",
       "       [ 0.00000000e+00, -7.53543717e-02,  8.91914838e-02,\n",
       "        -1.68317043e-01,  1.23799896e-01, -1.08152975e-01,\n",
       "        -2.52784594e-01, -1.14090518e-02,  1.71465720e-02,\n",
       "        -5.54823364e-02,  2.44679464e-02,  8.70443638e-02,\n",
       "        -3.25972972e-01,  1.65958500e-01,  1.15037970e-01,\n",
       "        -6.96187374e-03, -6.10990449e-02, -1.29420864e-02,\n",
       "         1.92518450e-01, -1.13292927e-01,  2.11628941e-01,\n",
       "         1.98999695e-01,  1.76137130e-01, -2.11625695e-03,\n",
       "        -3.41557772e-02,  6.49258037e-02, -1.94214353e-01,\n",
       "         4.21303137e-01, -1.65754050e-01, -2.50550153e-02,\n",
       "        -6.18435860e-02, -1.12295529e-04,  0.00000000e+00,\n",
       "        -2.68355751e-03, -3.02113724e-02,  3.74348068e-01,\n",
       "         8.82091171e-02, -2.38501456e-01, -5.78190163e-01,\n",
       "         0.00000000e+00, -2.52399152e-04, -2.86293782e-02,\n",
       "         1.67885700e-01,  8.90297960e-02,  1.87918425e-01,\n",
       "         4.57310651e-02,  1.91814373e-01, -1.37821275e-03,\n",
       "        -1.81058890e-03,  1.05930483e-01,  1.99604424e-01,\n",
       "        -2.87368917e-01, -2.87828825e-01,  1.43100568e-01,\n",
       "         2.41933148e-01, -1.66028686e-02, -5.43035732e-04,\n",
       "         1.01946428e-02, -3.17221417e-01, -5.55041597e-02,\n",
       "         2.89592575e-01, -9.15858415e-02, -9.51114159e-02,\n",
       "        -5.99319786e-02],\n",
       "       [ 0.00000000e+00, -1.51858412e-01, -1.18666623e-01,\n",
       "         3.47416562e-01,  1.34629884e-01, -1.06819765e-01,\n",
       "         1.18314027e-01, -6.57217266e-02, -2.58060095e-04,\n",
       "         1.57153373e-01,  1.57572092e-01,  1.06030463e-01,\n",
       "        -1.55426067e-01,  1.48743876e-03,  2.15769360e-01,\n",
       "        -4.09731428e-02, -3.53482653e-04, -3.31983861e-02,\n",
       "         8.34023455e-03,  5.20257932e-02,  2.90748221e-01,\n",
       "         5.48385248e-01,  1.00278991e-01, -1.84937242e-02,\n",
       "        -1.52200751e-04,  7.29171921e-02,  2.41937428e-01,\n",
       "         3.44026161e-01,  3.08140119e-03,  2.20684689e-01,\n",
       "         2.88172370e-02, -3.93494921e-04,  0.00000000e+00,\n",
       "        -3.97646117e-01, -2.04506797e-01,  2.59596565e-01,\n",
       "        -9.42488108e-02, -3.24557762e-02, -1.54833366e-01,\n",
       "         0.00000000e+00, -2.48593850e-04, -2.93479036e-02,\n",
       "        -4.56098063e-01, -8.32171901e-01, -5.13655009e-01,\n",
       "        -1.81557125e-01, -3.49689242e-01,  6.12478944e-05,\n",
       "        -2.05878275e-04,  1.88506817e-01, -8.55051325e-02,\n",
       "        -1.92933721e-01, -1.86600341e-01, -2.11477349e-01,\n",
       "        -4.07891918e-02,  2.69304695e-02, -1.67664268e-05,\n",
       "        -1.20538593e-01,  2.68625464e-02,  9.92744514e-02,\n",
       "         6.02630953e-02,  9.56450624e-02,  3.78136614e-02,\n",
       "        -4.66096352e-03]])"
      ]
     },
     "execution_count": 14,
     "metadata": {},
     "output_type": "execute_result"
    }
   ],
   "source": [
    "model.coef_"
   ]
  },
  {
   "cell_type": "code",
   "execution_count": 15,
   "id": "1b320e23",
   "metadata": {},
   "outputs": [
    {
     "data": {
      "text/plain": [
       "1.0"
      ]
     },
     "execution_count": 15,
     "metadata": {},
     "output_type": "execute_result"
    }
   ],
   "source": [
    "model.score(features, target)"
   ]
  },
  {
   "cell_type": "markdown",
   "id": "a73e88a2",
   "metadata": {},
   "source": [
    "### Deployment"
   ]
  },
  {
   "cell_type": "code",
   "execution_count": 19,
   "id": "b5711d2a",
   "metadata": {},
   "outputs": [],
   "source": [
    "# Save the model\n",
    "dump(model, open('2023-sep-v001-lr.pkl', 'wb'))"
   ]
  },
  {
   "cell_type": "code",
   "execution_count": 20,
   "id": "9cbce96c",
   "metadata": {},
   "outputs": [
    {
     "name": "stdout",
     "output_type": "stream",
     "text": [
      "total 3896\r\n",
      "-rw-r--r--  1 smotinof  staff    6822 Sep 20 18:12 2023-sep-v001-lr.pkl\r\n",
      "-rw-r--r--  1 smotinof  staff   53381 Sep 20 16:33 Untitled.ipynb\r\n",
      "-rw-rw-r--@ 1 smotinof  staff  923485 Jun 22 07:51 ejercicio1.html\r\n",
      "-rw-rw-r--@ 1 smotinof  staff  326603 Jun  3 08:28 ejercicio1.ipynb\r\n",
      "-rw-rw-r--@ 1 smotinof  staff  635023 Jun 22 07:54 ejercicio2.html\r\n",
      "-rw-rw-r--@ 1 smotinof  staff   34452 Jun  3 10:12 ejercicio2.ipynb\r\n"
     ]
    }
   ],
   "source": [
    "ls -l"
   ]
  },
  {
   "cell_type": "code",
   "execution_count": 21,
   "id": "22219fc8",
   "metadata": {},
   "outputs": [],
   "source": [
    "model2 = load(open('2023-sep-v001-lr.pkl', 'rb'))"
   ]
  },
  {
   "cell_type": "code",
   "execution_count": 22,
   "id": "d350d0f8",
   "metadata": {},
   "outputs": [
    {
     "data": {
      "text/plain": [
       "1.0"
      ]
     },
     "execution_count": 22,
     "metadata": {},
     "output_type": "execute_result"
    }
   ],
   "source": [
    "model2.score(features, target)\n"
   ]
  },
  {
   "cell_type": "code",
   "execution_count": 24,
   "id": "b73f6201",
   "metadata": {},
   "outputs": [
    {
     "data": {
      "text/plain": [
       "array([0, 1, 2, ..., 8, 9, 8])"
      ]
     },
     "execution_count": 24,
     "metadata": {},
     "output_type": "execute_result"
    }
   ],
   "source": [
    "model2.predict(features )"
   ]
  },
  {
   "cell_type": "markdown",
   "id": "4cec4955",
   "metadata": {},
   "source": [
    "# Modelo 2"
   ]
  },
  {
   "cell_type": "code",
   "execution_count": null,
   "id": "1af2351c",
   "metadata": {},
   "outputs": [],
   "source": [
    "digits = load_digits(as_frame = True)\n",
    "features = digits.data\n",
    "target = digits.target"
   ]
  },
  {
   "cell_type": "code",
   "execution_count": 26,
   "id": "01c8e765",
   "metadata": {},
   "outputs": [],
   "source": [
    "# Split data train and data test\n",
    "from sklearn.model_selection import train_test_split \n",
    "\n",
    "X_train, X_test, y_train, y_test = train_test_split(features, target, test_size=0.20)#, random_state=42\n"
   ]
  },
  {
   "cell_type": "code",
   "execution_count": 28,
   "id": "077fc4cf",
   "metadata": {},
   "outputs": [
    {
     "data": {
      "text/plain": [
       "(1437, 360)"
      ]
     },
     "execution_count": 28,
     "metadata": {},
     "output_type": "execute_result"
    }
   ],
   "source": [
    "len(X_train), len(X_test)"
   ]
  },
  {
   "cell_type": "code",
   "execution_count": 31,
   "id": "01a2834b",
   "metadata": {},
   "outputs": [
    {
     "data": {
      "text/plain": [
       "0.9694444444444444"
      ]
     },
     "execution_count": 31,
     "metadata": {},
     "output_type": "execute_result"
    }
   ],
   "source": [
    "model = LogisticRegression()\n",
    "model.fit(X_train, y_train)\n",
    "model.score(X_test, y_test)\n",
    "\n"
   ]
  },
  {
   "cell_type": "code",
   "execution_count": null,
   "id": "5bce91c5",
   "metadata": {},
   "outputs": [],
   "source": []
  },
  {
   "cell_type": "markdown",
   "id": "3f643ab8",
   "metadata": {},
   "source": [
    "# Modelo 3\n",
    "\n",
    "### Modelos con transformadores"
   ]
  },
  {
   "cell_type": "code",
   "execution_count": 6,
   "id": "fb8fe215",
   "metadata": {},
   "outputs": [],
   "source": [
    "digits = load_digits(as_frame = True)\n",
    "features = digits.data\n",
    "target = digits.target"
   ]
  },
  {
   "cell_type": "code",
   "execution_count": 11,
   "id": "31809a4c",
   "metadata": {},
   "outputs": [],
   "source": [
    "# Split data train and data test\n",
    "from sklearn.model_selection import train_test_split \n",
    "\n",
    "X_train, X_test, y_train, y_test = train_test_split(features, target, test_size=0.20)#, random_state=42\n"
   ]
  },
  {
   "cell_type": "code",
   "execution_count": 9,
   "id": "940d7523",
   "metadata": {},
   "outputs": [],
   "source": [
    "from sklearn.pipeline import  Pipeline\n",
    "from sklearn.preprocessing import StandardScaler\n",
    "\n",
    "scaler = StandardScaler()\n",
    "alg = LogisticRegression()  # This is your model\n",
    "\n",
    "pipe = Pipeline( \n",
    "    [('standardscaler',scaler),\n",
    "    ('algoritmo',alg)]\n",
    ")"
   ]
  },
  {
   "cell_type": "code",
   "execution_count": 12,
   "id": "bd128274",
   "metadata": {},
   "outputs": [
    {
     "data": {
      "text/html": [
       "<style>#sk-container-id-1 {color: black;background-color: white;}#sk-container-id-1 pre{padding: 0;}#sk-container-id-1 div.sk-toggleable {background-color: white;}#sk-container-id-1 label.sk-toggleable__label {cursor: pointer;display: block;width: 100%;margin-bottom: 0;padding: 0.3em;box-sizing: border-box;text-align: center;}#sk-container-id-1 label.sk-toggleable__label-arrow:before {content: \"▸\";float: left;margin-right: 0.25em;color: #696969;}#sk-container-id-1 label.sk-toggleable__label-arrow:hover:before {color: black;}#sk-container-id-1 div.sk-estimator:hover label.sk-toggleable__label-arrow:before {color: black;}#sk-container-id-1 div.sk-toggleable__content {max-height: 0;max-width: 0;overflow: hidden;text-align: left;background-color: #f0f8ff;}#sk-container-id-1 div.sk-toggleable__content pre {margin: 0.2em;color: black;border-radius: 0.25em;background-color: #f0f8ff;}#sk-container-id-1 input.sk-toggleable__control:checked~div.sk-toggleable__content {max-height: 200px;max-width: 100%;overflow: auto;}#sk-container-id-1 input.sk-toggleable__control:checked~label.sk-toggleable__label-arrow:before {content: \"▾\";}#sk-container-id-1 div.sk-estimator input.sk-toggleable__control:checked~label.sk-toggleable__label {background-color: #d4ebff;}#sk-container-id-1 div.sk-label input.sk-toggleable__control:checked~label.sk-toggleable__label {background-color: #d4ebff;}#sk-container-id-1 input.sk-hidden--visually {border: 0;clip: rect(1px 1px 1px 1px);clip: rect(1px, 1px, 1px, 1px);height: 1px;margin: -1px;overflow: hidden;padding: 0;position: absolute;width: 1px;}#sk-container-id-1 div.sk-estimator {font-family: monospace;background-color: #f0f8ff;border: 1px dotted black;border-radius: 0.25em;box-sizing: border-box;margin-bottom: 0.5em;}#sk-container-id-1 div.sk-estimator:hover {background-color: #d4ebff;}#sk-container-id-1 div.sk-parallel-item::after {content: \"\";width: 100%;border-bottom: 1px solid gray;flex-grow: 1;}#sk-container-id-1 div.sk-label:hover label.sk-toggleable__label {background-color: #d4ebff;}#sk-container-id-1 div.sk-serial::before {content: \"\";position: absolute;border-left: 1px solid gray;box-sizing: border-box;top: 0;bottom: 0;left: 50%;z-index: 0;}#sk-container-id-1 div.sk-serial {display: flex;flex-direction: column;align-items: center;background-color: white;padding-right: 0.2em;padding-left: 0.2em;position: relative;}#sk-container-id-1 div.sk-item {position: relative;z-index: 1;}#sk-container-id-1 div.sk-parallel {display: flex;align-items: stretch;justify-content: center;background-color: white;position: relative;}#sk-container-id-1 div.sk-item::before, #sk-container-id-1 div.sk-parallel-item::before {content: \"\";position: absolute;border-left: 1px solid gray;box-sizing: border-box;top: 0;bottom: 0;left: 50%;z-index: -1;}#sk-container-id-1 div.sk-parallel-item {display: flex;flex-direction: column;z-index: 1;position: relative;background-color: white;}#sk-container-id-1 div.sk-parallel-item:first-child::after {align-self: flex-end;width: 50%;}#sk-container-id-1 div.sk-parallel-item:last-child::after {align-self: flex-start;width: 50%;}#sk-container-id-1 div.sk-parallel-item:only-child::after {width: 0;}#sk-container-id-1 div.sk-dashed-wrapped {border: 1px dashed gray;margin: 0 0.4em 0.5em 0.4em;box-sizing: border-box;padding-bottom: 0.4em;background-color: white;}#sk-container-id-1 div.sk-label label {font-family: monospace;font-weight: bold;display: inline-block;line-height: 1.2em;}#sk-container-id-1 div.sk-label-container {text-align: center;}#sk-container-id-1 div.sk-container {/* jupyter's `normalize.less` sets `[hidden] { display: none; }` but bootstrap.min.css set `[hidden] { display: none !important; }` so we also need the `!important` here to be able to override the default hidden behavior on the sphinx rendered scikit-learn.org. See: https://github.com/scikit-learn/scikit-learn/issues/21755 */display: inline-block !important;position: relative;}#sk-container-id-1 div.sk-text-repr-fallback {display: none;}</style><div id=\"sk-container-id-1\" class=\"sk-top-container\"><div class=\"sk-text-repr-fallback\"><pre>Pipeline(steps=[(&#x27;standardscaler&#x27;, StandardScaler()),\n",
       "                (&#x27;algoritmo&#x27;, LogisticRegression())])</pre><b>In a Jupyter environment, please rerun this cell to show the HTML representation or trust the notebook. <br />On GitHub, the HTML representation is unable to render, please try loading this page with nbviewer.org.</b></div><div class=\"sk-container\" hidden><div class=\"sk-item sk-dashed-wrapped\"><div class=\"sk-label-container\"><div class=\"sk-label sk-toggleable\"><input class=\"sk-toggleable__control sk-hidden--visually\" id=\"sk-estimator-id-1\" type=\"checkbox\" ><label for=\"sk-estimator-id-1\" class=\"sk-toggleable__label sk-toggleable__label-arrow\">Pipeline</label><div class=\"sk-toggleable__content\"><pre>Pipeline(steps=[(&#x27;standardscaler&#x27;, StandardScaler()),\n",
       "                (&#x27;algoritmo&#x27;, LogisticRegression())])</pre></div></div></div><div class=\"sk-serial\"><div class=\"sk-item\"><div class=\"sk-estimator sk-toggleable\"><input class=\"sk-toggleable__control sk-hidden--visually\" id=\"sk-estimator-id-2\" type=\"checkbox\" ><label for=\"sk-estimator-id-2\" class=\"sk-toggleable__label sk-toggleable__label-arrow\">StandardScaler</label><div class=\"sk-toggleable__content\"><pre>StandardScaler()</pre></div></div></div><div class=\"sk-item\"><div class=\"sk-estimator sk-toggleable\"><input class=\"sk-toggleable__control sk-hidden--visually\" id=\"sk-estimator-id-3\" type=\"checkbox\" ><label for=\"sk-estimator-id-3\" class=\"sk-toggleable__label sk-toggleable__label-arrow\">LogisticRegression</label><div class=\"sk-toggleable__content\"><pre>LogisticRegression()</pre></div></div></div></div></div></div></div>"
      ],
      "text/plain": [
       "Pipeline(steps=[('standardscaler', StandardScaler()),\n",
       "                ('algoritmo', LogisticRegression())])"
      ]
     },
     "execution_count": 12,
     "metadata": {},
     "output_type": "execute_result"
    }
   ],
   "source": [
    "pipe.fit(X_train, y_train)\n"
   ]
  },
  {
   "cell_type": "code",
   "execution_count": 13,
   "id": "d9545a65",
   "metadata": {},
   "outputs": [
    {
     "data": {
      "text/plain": [
       "0.9861111111111112"
      ]
     },
     "execution_count": 13,
     "metadata": {},
     "output_type": "execute_result"
    }
   ],
   "source": [
    "pipe.score(X_test, y_test)"
   ]
  },
  {
   "cell_type": "code",
   "execution_count": 17,
   "id": "da6dac74",
   "metadata": {},
   "outputs": [],
   "source": [
    "# Save the model\n",
    "dump(alg, open('2023-sep-v003-lr.pkl', 'wb'))"
   ]
  },
  {
   "cell_type": "code",
   "execution_count": null,
   "id": "4a4334e1",
   "metadata": {},
   "outputs": [],
   "source": []
  },
  {
   "cell_type": "markdown",
   "id": "90454aab",
   "metadata": {},
   "source": [
    "# Ejercicio\n",
    "\n",
    "Usando el dataset Boston, realizar dos modelos de regresion Lasso. "
   ]
  },
  {
   "cell_type": "code",
   "execution_count": null,
   "id": "234208a5",
   "metadata": {},
   "outputs": [],
   "source": []
  },
  {
   "cell_type": "code",
   "execution_count": null,
   "id": "0230aab8",
   "metadata": {},
   "outputs": [],
   "source": []
  },
  {
   "cell_type": "code",
   "execution_count": null,
   "id": "8c8aa832",
   "metadata": {},
   "outputs": [],
   "source": []
  },
  {
   "cell_type": "markdown",
   "id": "ec75e8e9",
   "metadata": {},
   "source": [
    "# Clase 3 -Numeros pseudo-aleatorios"
   ]
  },
  {
   "cell_type": "code",
   "execution_count": null,
   "id": "f10459d5",
   "metadata": {},
   "outputs": [],
   "source": [
    "import numpy as np"
   ]
  },
  {
   "cell_type": "code",
   "execution_count": 25,
   "id": "a023eba9",
   "metadata": {},
   "outputs": [],
   "source": [
    "seed = 99\n",
    "np.random.seed(seed)"
   ]
  },
  {
   "cell_type": "code",
   "execution_count": 26,
   "id": "faa128c8",
   "metadata": {},
   "outputs": [
    {
     "data": {
      "text/plain": [
       "(array([  3.,  10.,  43., 155., 282., 267., 178.,  49.,   9.,   4.]),\n",
       " array([-3.71802061, -2.96946946, -2.22091831, -1.47236716, -0.72381601,\n",
       "         0.02473514,  0.77328629,  1.52183745,  2.2703886 ,  3.01893975,\n",
       "         3.7674909 ]),\n",
       " <BarContainer object of 10 artists>)"
      ]
     },
     "execution_count": 26,
     "metadata": {},
     "output_type": "execute_result"
    },
    {
     "data": {
      "image/png": "[encoded data removed]",
      "text/plain": [
       "<Figure size 640x480 with 1 Axes>"
      ]
     },
     "metadata": {},
     "output_type": "display_data"
    }
   ],
   "source": [
    "\n",
    "import matplotlib\n",
    "import matplotlib.pyplot as plt\n",
    "x = np.random.randn(1000)\n",
    "plt.hist(x)"
   ]
  },
  {
   "cell_type": "code",
   "execution_count": 27,
   "id": "c994fdda",
   "metadata": {},
   "outputs": [
    {
     "data": {
      "text/plain": [
       "(array([112.,  75., 102.,  94., 101., 108., 124.,  91.,  91., 102.]),\n",
       " array([8.45612117e-05, 1.00075187e-01, 2.00065813e-01, 3.00056439e-01,\n",
       "        4.00047065e-01, 5.00037692e-01, 6.00028318e-01, 7.00018944e-01,\n",
       "        8.00009570e-01, 9.00000196e-01, 9.99990822e-01]),\n",
       " <BarContainer object of 10 artists>)"
      ]
     },
     "execution_count": 27,
     "metadata": {},
     "output_type": "execute_result"
    },
    {
     "data": {
      "image/png": "[encoded data removed]",
      "text/plain": [
       "<Figure size 640x480 with 1 Axes>"
      ]
     },
     "metadata": {},
     "output_type": "display_data"
    }
   ],
   "source": [
    "x = np.random.uniform(0,1,1000)\n",
    "plt.hist(x)"
   ]
  },
  {
   "cell_type": "markdown",
   "id": "69d20efc",
   "metadata": {},
   "source": [
    "# Modelo 4\n",
    "Comparar modelos de clasificacion"
   ]
  },
  {
   "cell_type": "code",
   "execution_count": 28,
   "id": "0d14c0fd",
   "metadata": {},
   "outputs": [],
   "source": [
    "import sklearn\n",
    "import matplotlib.pyplot as plt\n",
    "\n",
    "from sklearn.linear_model import LogisticRegression\n",
    "from sklearn.tree import DecisionTreeClassifier\n",
    "from sklearn.neighbors import KNeighborsClassifier\n",
    "from sklearn.discriminant_analysis import LinearDiscriminantAnalysis\n",
    "from sklearn.naive_bayes import GaussianNB\n",
    "from sklearn.ensemble import RandomForestClassifier, ExtraTreesClassifier\n",
    "from sklearn.svm import SVC\n"
   ]
  },
  {
   "cell_type": "code",
   "execution_count": 29,
   "id": "c66a036e",
   "metadata": {},
   "outputs": [],
   "source": [
    "digits = load_digits(as_frame = True)\n",
    "features = digits.data\n",
    "target = digits.target\n",
    "\n",
    "X_train, X_test, y_train, y_test = train_test_split(features, target, test_size=0.20)#, random_state=42\n"
   ]
  },
  {
   "cell_type": "code",
   "execution_count": 30,
   "id": "29f5d13e",
   "metadata": {},
   "outputs": [],
   "source": [
    "# Crear una lista de modelos para comparar cual algoritmo (Modelo) nos da el mejor resultado."
   ]
  },
  {
   "cell_type": "code",
   "execution_count": 31,
   "id": "5b51426f",
   "metadata": {},
   "outputs": [],
   "source": [
    "models = []\n",
    "\n",
    "models.append(('LR', LogisticRegression(random_state=seed)))\n",
    "models.append(('LDA', LinearDiscriminantAnalysis()))\n",
    "models.append(('DTC', DecisionTreeClassifier(random_state=seed)))\n",
    "models.append(('NB', GaussianNB()))\n",
    "models.append(('RFC', RandomForestClassifier(random_state=seed)))\n",
    "models.append(('SVM', SVC()))"
   ]
  },
  {
   "cell_type": "code",
   "execution_count": 32,
   "id": "da071bd6",
   "metadata": {},
   "outputs": [
    {
     "name": "stdout",
     "output_type": "stream",
     "text": [
      "LR :   0.9777777777777777\n",
      "LDA :   0.9527777777777777\n",
      "DTC :   0.8361111111111111\n",
      "NB :   0.8388888888888889\n",
      "RFC :   0.9861111111111112\n",
      "SVM :   0.9833333333333333\n"
     ]
    }
   ],
   "source": [
    "for name, model in models:\n",
    "    model.fit(X_train, y_train)\n",
    "    score = model.score(X_test, y_test)\n",
    "    print (name, ':  ',str(score))\n",
    "    \n"
   ]
  },
  {
   "cell_type": "code",
   "execution_count": null,
   "id": "61388092",
   "metadata": {},
   "outputs": [],
   "source": []
  },
  {
   "cell_type": "code",
   "execution_count": null,
   "id": "b66eabde",
   "metadata": {},
   "outputs": [],
   "source": []
  },
  {
   "cell_type": "code",
   "execution_count": null,
   "id": "df14a74b",
   "metadata": {},
   "outputs": [],
   "source": []
  },
  {
   "cell_type": "code",
   "execution_count": null,
   "id": "c8ceeab3",
   "metadata": {},
   "outputs": [],
   "source": []
  }
 ],
 "metadata": {
  "kernelspec": {
   "display_name": "Python 3 (ipykernel)",
   "language": "python",
   "name": "python3"
  },
  "language_info": {
   "codemirror_mode": {
    "name": "ipython",
    "version": 3
   },
   "file_extension": ".py",
   "mimetype": "text/x-python",
   "name": "python",
   "nbconvert_exporter": "python",
   "pygments_lexer": "ipython3",
   "version": "3.10.13"
  }
 },
 "nbformat": 4,
 "nbformat_minor": 5
}
