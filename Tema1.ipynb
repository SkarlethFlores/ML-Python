{
 "cells": [
  {
   "cell_type": "code",
   "execution_count": 25,
   "id": "957c2d80",
   "metadata": {},
   "outputs": [],
   "source": [
    "# https://codeshare.io/AdRMxl\n",
    "\n",
    "import warnings\n",
    "warnings.filterwarnings('ignore')"
   ]
  },
  {
   "cell_type": "markdown",
   "id": "3deb0cbb",
   "metadata": {},
   "source": [
    "# Modelo 1"
   ]
  },
  {
   "cell_type": "code",
   "execution_count": 26,
   "id": "aadca109",
   "metadata": {},
   "outputs": [],
   "source": [
    "import pandas as pd\n",
    "from sklearn.datasets import load_digits\n",
    "\n",
    "digits = load_digits(as_frame=True)\n",
    "X = digits.data\n",
    "y = digits.target"
   ]
  },
  {
   "cell_type": "code",
   "execution_count": 35,
   "id": "352dd74c",
   "metadata": {},
   "outputs": [
    {
     "data": {
      "text/plain": [
       "1.0"
      ]
     },
     "execution_count": 35,
     "metadata": {},
     "output_type": "execute_result"
    }
   ],
   "source": [
    "from sklearn.linear_model import LogisticRegression\n",
    "\n",
    "model = LogisticRegression()\n",
    "model.fit(X, y)\n",
    "# y_hat = model.predict(X)\n",
    "model.score(X, y)"
   ]
  },
  {
   "cell_type": "code",
   "execution_count": 37,
   "id": "676e0d62",
   "metadata": {},
   "outputs": [],
   "source": [
    "from pickle import load, dump\n",
    "\n",
    "dump(model, open('modelo-dummy-v1.pkl', 'wb'))\n",
    "model2 = load(open('modelo-dummy-v1.pkl', 'rb'))\n",
    "model2.predict(X)"
   ]
  },
  {
   "cell_type": "markdown",
   "id": "32a0f0f8",
   "metadata": {},
   "source": [
    "# Modelo 2"
   ]
  },
  {
   "cell_type": "code",
   "execution_count": 42,
   "id": "e04ec52c",
   "metadata": {},
   "outputs": [],
   "source": [
    "digits = load_digits(as_frame=True)\n",
    "X = digits.data\n",
    "y = digits.target"
   ]
  },
  {
   "cell_type": "code",
   "execution_count": 51,
   "id": "93af1d58",
   "metadata": {},
   "outputs": [
    {
     "data": {
      "text/plain": [
       "0.9611111111111111"
      ]
     },
     "execution_count": 51,
     "metadata": {},
     "output_type": "execute_result"
    }
   ],
   "source": [
    "from sklearn.model_selection import train_test_split\n",
    "\n",
    "X_train, X_test, y_train, y_test = train_test_split(X, y, test_size=0.2)\n",
    "# print(len(X))\n",
    "# print(len(X_train))\n",
    "# print(len(X_test))\n",
    "\n",
    "model = LogisticRegression()\n",
    "model.fit(X_train, y_train)\n",
    "y_hat = model.predict(X_test)\n",
    "model.score(X_test, y_test)"
   ]
  },
  {
   "cell_type": "markdown",
   "id": "3b2ae29a",
   "metadata": {},
   "source": [
    "# Modelo 4"
   ]
  },
  {
   "cell_type": "code",
   "execution_count": 52,
   "id": "74701d8a",
   "metadata": {},
   "outputs": [],
   "source": [
    "digits = load_digits(as_frame=True)\n",
    "X = digits.data\n",
    "y = digits.target"
   ]
  },
  {
   "cell_type": "code",
   "execution_count": 53,
   "id": "5e2e3b1f",
   "metadata": {},
   "outputs": [],
   "source": [
    "X_train, X_test, y_train, y_test = train_test_split(X, y, test_size=0.2)"
   ]
  },
  {
   "cell_type": "code",
   "execution_count": 60,
   "id": "230cb1af",
   "metadata": {},
   "outputs": [
    {
     "data": {
      "text/plain": [
       "0.9777777777777777"
      ]
     },
     "execution_count": 60,
     "metadata": {},
     "output_type": "execute_result"
    }
   ],
   "source": [
    "from sklearn.preprocessing import StandardScaler\n",
    "from sklearn.pipeline import make_pipeline\n",
    "\n",
    "scaler = StandardScaler()\n",
    "alg = LogisticRegression()\n",
    "\n",
    "pipe = make_pipeline(scaler, alg)\n",
    "pipe.fit(X_train, y_train)\n",
    "# pipe.predict(X_test)\n",
    "pipe.score(X_test, y_test)"
   ]
  },
  {
   "cell_type": "markdown",
   "id": "c7601241",
   "metadata": {},
   "source": [
    "### Ejercicio Regresion"
   ]
  },
  {
   "cell_type": "code",
   "execution_count": 85,
   "id": "81dc5798",
   "metadata": {},
   "outputs": [
    {
     "name": "stdout",
     "output_type": "stream",
     "text": [
      "modelo1:0.357 | modelo2: 0.445\n"
     ]
    }
   ],
   "source": [
    "from sklearn.datasets import load_diabetes\n",
    "from sklearn.linear_model import Lasso\n",
    "\n",
    "diabetes = load_diabetes()\n",
    "\n",
    "X = diabetes.data\n",
    "y = diabetes.target\n",
    "# print(X.shape)\n",
    "# print(y.shape)\n",
    "\n",
    "X_train, X_test, y_train, y_test = train_test_split(\n",
    "    X, y, \n",
    "    test_size=0.2, \n",
    "    random_state=99\n",
    ")\n",
    "\n",
    "\"\"\" modelo 1 \"\"\"\n",
    "model = Lasso(random_state=99)\n",
    "model.fit(X_train, y_train)\n",
    "r1 = model.score(X_test, y_test)\n",
    "\n",
    "\"\"\" modelo 2 \"\"\"\n",
    "model = Lasso()\n",
    "scaler = StandardScaler()\n",
    "pipe = make_pipeline(scaler, model)\n",
    "pipe.fit(X_train, y_train)\n",
    "r2 =pipe.score(X_test, y_test)\n",
    "\n",
    "print(f'modelo1:{r1:.3f} | modelo2: {r2:.3f}')"
   ]
  },
  {
   "cell_type": "markdown",
   "id": "00336420",
   "metadata": {},
   "source": [
    "# Seleccion de algortimos"
   ]
  },
  {
   "cell_type": "code",
   "execution_count": 86,
   "id": "344aec30",
   "metadata": {},
   "outputs": [],
   "source": [
    "from sklearn.linear_model import LogisticRegression\n",
    "from sklearn.tree import DecisionTreeClassifier\n",
    "from sklearn.neighbors import KNeighborsClassifier\n",
    "from sklearn.discriminant_analysis import LinearDiscriminantAnalysis\n",
    "from sklearn.naive_bayes import GaussianNB\n",
    "from sklearn.ensemble import RandomForestClassifier\n",
    "from sklearn.svm import SVC"
   ]
  },
  {
   "cell_type": "code",
   "execution_count": 94,
   "id": "698b81f6",
   "metadata": {},
   "outputs": [],
   "source": [
    "models = []\n",
    "\n",
    "models.append(('LR', LogisticRegression(random_state=99)))\n",
    "models.append(('DTC', DecisionTreeClassifier(random_state=99)))\n",
    "models.append(('KNN', KNeighborsClassifier()))\n",
    "models.append(('LDA', LinearDiscriminantAnalysis()))\n",
    "models.append(('NB', GaussianNB()))\n",
    "models.append(('RFC', RandomForestClassifier(random_state=99)))\n",
    "models.append(('SVC', SVC(random_state=99)))"
   ]
  },
  {
   "cell_type": "code",
   "execution_count": 95,
   "id": "d8b44334",
   "metadata": {},
   "outputs": [],
   "source": [
    "digits = load_digits(as_frame=True)\n",
    "X = digits.data\n",
    "y = digits.target\n",
    "\n",
    "X_train, X_test, y_train, y_test = train_test_split(\n",
    "    X, y, \n",
    "    test_size=0.2, \n",
    "    random_state=99\n",
    ")"
   ]
  },
  {
   "cell_type": "code",
   "execution_count": 96,
   "id": "a6326f16",
   "metadata": {},
   "outputs": [
    {
     "name": "stdout",
     "output_type": "stream",
     "text": [
      "LR: 0.9777777777777777\n",
      "DTC: 0.8555555555555555\n",
      "KNN: 0.9944444444444445\n",
      "LDA: 0.9527777777777777\n",
      "NB: 0.8722222222222222\n",
      "RFC: 0.975\n",
      "SVC: 0.9888888888888889\n"
     ]
    }
   ],
   "source": [
    "for name, model in models:\n",
    "    model.fit(X_train, y_train)\n",
    "    score = model.score(X_test, y_test)\n",
    "    print(f'{name}: {score}')"
   ]
  },
  {
   "cell_type": "code",
   "execution_count": null,
   "id": "f5776d3b",
   "metadata": {},
   "outputs": [],
   "source": []
  },
  {
   "cell_type": "code",
   "execution_count": null,
   "id": "5a12098e",
   "metadata": {},
   "outputs": [],
   "source": []
  }
 ],
 "metadata": {
  "kernelspec": {
   "display_name": "Python 3 (ipykernel)",
   "language": "python",
   "name": "python3"
  },
  "language_info": {
   "codemirror_mode": {
    "name": "ipython",
    "version": 3
   },
   "file_extension": ".py",
   "mimetype": "text/x-python",
   "name": "python",
   "nbconvert_exporter": "python",
   "pygments_lexer": "ipython3",
   "version": "3.10.13"
  }
 },
 "nbformat": 4,
 "nbformat_minor": 5
}
